{
 "cells": [
  {
   "cell_type": "code",
   "execution_count": 1,
   "metadata": {},
   "outputs": [],
   "source": [
    "import pandas as pd\n",
    "import os\n",
    "import tensorflow as tf\n",
    "import numpy as np\n",
    "from tensorflow import keras\n",
    "from keras import optimizers\n",
    "import matplotlib.pyplot as plt\n",
    "\n",
    "# For my Mac\n",
    "os.chdir('//Users//patricklee//Desktop//파이썬//DACON//2020DACON_CUP')\n",
    "\n",
    "# For my Desktop\n",
    "# os.chdir('C://Users//BIS_COM//data//dacon//2020')"
   ]
  },
  {
   "cell_type": "code",
   "execution_count": 2,
   "metadata": {},
   "outputs": [],
   "source": [
    "df = pd.read_csv(r'./new_train_df.csv', parse_dates=['c_time'])"
   ]
  },
  {
   "cell_type": "code",
   "execution_count": 3,
   "metadata": {
    "scrolled": true
   },
   "outputs": [
    {
     "data": {
      "text/html": [
       "<div>\n",
       "<style scoped>\n",
       "    .dataframe tbody tr th:only-of-type {\n",
       "        vertical-align: middle;\n",
       "    }\n",
       "\n",
       "    .dataframe tbody tr th {\n",
       "        vertical-align: top;\n",
       "    }\n",
       "\n",
       "    .dataframe thead th {\n",
       "        text-align: right;\n",
       "    }\n",
       "</style>\n",
       "<table border=\"1\" class=\"dataframe\">\n",
       "  <thead>\n",
       "    <tr style=\"text-align: right;\">\n",
       "      <th></th>\n",
       "      <th>c_time</th>\n",
       "      <th>id</th>\n",
       "      <th>ds_level</th>\n",
       "      <th>country_code</th>\n",
       "      <th>Total visit</th>\n",
       "      <th>browser</th>\n",
       "      <th>platform</th>\n",
       "      <th>Total User</th>\n",
       "      <th>사용자</th>\n",
       "      <th>세션</th>\n",
       "      <th>신규방문자</th>\n",
       "      <th>페이지뷰</th>\n",
       "    </tr>\n",
       "  </thead>\n",
       "  <tbody>\n",
       "    <tr>\n",
       "      <th>0</th>\n",
       "      <td>2018-09-09 01:00:00</td>\n",
       "      <td>1.0</td>\n",
       "      <td>1.0</td>\n",
       "      <td>1.0</td>\n",
       "      <td>-99.0</td>\n",
       "      <td>-99.0</td>\n",
       "      <td>-99.0</td>\n",
       "      <td>-99.0</td>\n",
       "      <td>20.0</td>\n",
       "      <td>19.0</td>\n",
       "      <td>9.0</td>\n",
       "      <td>259.0</td>\n",
       "    </tr>\n",
       "    <tr>\n",
       "      <th>1</th>\n",
       "      <td>2018-09-09 03:00:00</td>\n",
       "      <td>1.0</td>\n",
       "      <td>1.0</td>\n",
       "      <td>1.0</td>\n",
       "      <td>-99.0</td>\n",
       "      <td>-99.0</td>\n",
       "      <td>-99.0</td>\n",
       "      <td>-99.0</td>\n",
       "      <td>10.0</td>\n",
       "      <td>10.0</td>\n",
       "      <td>2.0</td>\n",
       "      <td>102.0</td>\n",
       "    </tr>\n",
       "    <tr>\n",
       "      <th>2</th>\n",
       "      <td>2018-09-09 13:00:00</td>\n",
       "      <td>3.0</td>\n",
       "      <td>1.0</td>\n",
       "      <td>1.0</td>\n",
       "      <td>-99.0</td>\n",
       "      <td>-99.0</td>\n",
       "      <td>-99.0</td>\n",
       "      <td>-99.0</td>\n",
       "      <td>20.0</td>\n",
       "      <td>16.0</td>\n",
       "      <td>7.0</td>\n",
       "      <td>131.0</td>\n",
       "    </tr>\n",
       "    <tr>\n",
       "      <th>3</th>\n",
       "      <td>2018-09-09 18:00:00</td>\n",
       "      <td>1.0</td>\n",
       "      <td>1.0</td>\n",
       "      <td>1.0</td>\n",
       "      <td>-99.0</td>\n",
       "      <td>-99.0</td>\n",
       "      <td>-99.0</td>\n",
       "      <td>-99.0</td>\n",
       "      <td>13.0</td>\n",
       "      <td>12.0</td>\n",
       "      <td>2.0</td>\n",
       "      <td>47.0</td>\n",
       "    </tr>\n",
       "    <tr>\n",
       "      <th>4</th>\n",
       "      <td>2018-09-09 21:00:00</td>\n",
       "      <td>2.0</td>\n",
       "      <td>1.0</td>\n",
       "      <td>1.0</td>\n",
       "      <td>-99.0</td>\n",
       "      <td>-99.0</td>\n",
       "      <td>-99.0</td>\n",
       "      <td>-99.0</td>\n",
       "      <td>17.0</td>\n",
       "      <td>17.0</td>\n",
       "      <td>7.0</td>\n",
       "      <td>107.0</td>\n",
       "    </tr>\n",
       "    <tr>\n",
       "      <th>...</th>\n",
       "      <td>...</td>\n",
       "      <td>...</td>\n",
       "      <td>...</td>\n",
       "      <td>...</td>\n",
       "      <td>...</td>\n",
       "      <td>...</td>\n",
       "      <td>...</td>\n",
       "      <td>...</td>\n",
       "      <td>...</td>\n",
       "      <td>...</td>\n",
       "      <td>...</td>\n",
       "      <td>...</td>\n",
       "    </tr>\n",
       "    <tr>\n",
       "      <th>13454</th>\n",
       "      <td>2019-12-30 07:00:00</td>\n",
       "      <td>-99.0</td>\n",
       "      <td>-99.0</td>\n",
       "      <td>-99.0</td>\n",
       "      <td>1.0</td>\n",
       "      <td>1.0</td>\n",
       "      <td>1.0</td>\n",
       "      <td>1.0</td>\n",
       "      <td>12.0</td>\n",
       "      <td>14.0</td>\n",
       "      <td>3.0</td>\n",
       "      <td>72.0</td>\n",
       "    </tr>\n",
       "    <tr>\n",
       "      <th>13455</th>\n",
       "      <td>2019-12-30 08:00:00</td>\n",
       "      <td>-99.0</td>\n",
       "      <td>-99.0</td>\n",
       "      <td>-99.0</td>\n",
       "      <td>7.0</td>\n",
       "      <td>3.0</td>\n",
       "      <td>3.0</td>\n",
       "      <td>6.0</td>\n",
       "      <td>29.0</td>\n",
       "      <td>29.0</td>\n",
       "      <td>5.0</td>\n",
       "      <td>274.0</td>\n",
       "    </tr>\n",
       "    <tr>\n",
       "      <th>13456</th>\n",
       "      <td>2019-12-30 12:00:00</td>\n",
       "      <td>-99.0</td>\n",
       "      <td>-99.0</td>\n",
       "      <td>-99.0</td>\n",
       "      <td>16.0</td>\n",
       "      <td>5.0</td>\n",
       "      <td>4.0</td>\n",
       "      <td>16.0</td>\n",
       "      <td>58.0</td>\n",
       "      <td>59.0</td>\n",
       "      <td>18.0</td>\n",
       "      <td>624.0</td>\n",
       "    </tr>\n",
       "    <tr>\n",
       "      <th>13457</th>\n",
       "      <td>2019-12-30 15:00:00</td>\n",
       "      <td>-99.0</td>\n",
       "      <td>-99.0</td>\n",
       "      <td>-99.0</td>\n",
       "      <td>36.0</td>\n",
       "      <td>7.0</td>\n",
       "      <td>5.0</td>\n",
       "      <td>34.0</td>\n",
       "      <td>100.0</td>\n",
       "      <td>100.0</td>\n",
       "      <td>28.0</td>\n",
       "      <td>1196.0</td>\n",
       "    </tr>\n",
       "    <tr>\n",
       "      <th>13458</th>\n",
       "      <td>2019-12-30 20:00:00</td>\n",
       "      <td>-99.0</td>\n",
       "      <td>-99.0</td>\n",
       "      <td>-99.0</td>\n",
       "      <td>18.0</td>\n",
       "      <td>2.0</td>\n",
       "      <td>5.0</td>\n",
       "      <td>16.0</td>\n",
       "      <td>49.0</td>\n",
       "      <td>53.0</td>\n",
       "      <td>16.0</td>\n",
       "      <td>658.0</td>\n",
       "    </tr>\n",
       "  </tbody>\n",
       "</table>\n",
       "<p>13459 rows × 12 columns</p>\n",
       "</div>"
      ],
      "text/plain": [
       "                   c_time    id  ds_level  country_code  Total visit  browser  \\\n",
       "0     2018-09-09 01:00:00   1.0       1.0           1.0        -99.0    -99.0   \n",
       "1     2018-09-09 03:00:00   1.0       1.0           1.0        -99.0    -99.0   \n",
       "2     2018-09-09 13:00:00   3.0       1.0           1.0        -99.0    -99.0   \n",
       "3     2018-09-09 18:00:00   1.0       1.0           1.0        -99.0    -99.0   \n",
       "4     2018-09-09 21:00:00   2.0       1.0           1.0        -99.0    -99.0   \n",
       "...                   ...   ...       ...           ...          ...      ...   \n",
       "13454 2019-12-30 07:00:00 -99.0     -99.0         -99.0          1.0      1.0   \n",
       "13455 2019-12-30 08:00:00 -99.0     -99.0         -99.0          7.0      3.0   \n",
       "13456 2019-12-30 12:00:00 -99.0     -99.0         -99.0         16.0      5.0   \n",
       "13457 2019-12-30 15:00:00 -99.0     -99.0         -99.0         36.0      7.0   \n",
       "13458 2019-12-30 20:00:00 -99.0     -99.0         -99.0         18.0      2.0   \n",
       "\n",
       "       platform  Total User    사용자     세션  신규방문자    페이지뷰  \n",
       "0         -99.0       -99.0   20.0   19.0    9.0   259.0  \n",
       "1         -99.0       -99.0   10.0   10.0    2.0   102.0  \n",
       "2         -99.0       -99.0   20.0   16.0    7.0   131.0  \n",
       "3         -99.0       -99.0   13.0   12.0    2.0    47.0  \n",
       "4         -99.0       -99.0   17.0   17.0    7.0   107.0  \n",
       "...         ...         ...    ...    ...    ...     ...  \n",
       "13454       1.0         1.0   12.0   14.0    3.0    72.0  \n",
       "13455       3.0         6.0   29.0   29.0    5.0   274.0  \n",
       "13456       4.0        16.0   58.0   59.0   18.0   624.0  \n",
       "13457       5.0        34.0  100.0  100.0   28.0  1196.0  \n",
       "13458       5.0        16.0   49.0   53.0   16.0   658.0  \n",
       "\n",
       "[13459 rows x 12 columns]"
      ]
     },
     "execution_count": 3,
     "metadata": {},
     "output_type": "execute_result"
    }
   ],
   "source": [
    "df"
   ]
  },
  {
   "cell_type": "code",
   "execution_count": 4,
   "metadata": {},
   "outputs": [],
   "source": [
    "df = df.set_index(\"c_time\")"
   ]
  },
  {
   "cell_type": "code",
   "execution_count": 5,
   "metadata": {},
   "outputs": [
    {
     "data": {
      "text/html": [
       "<div>\n",
       "<style scoped>\n",
       "    .dataframe tbody tr th:only-of-type {\n",
       "        vertical-align: middle;\n",
       "    }\n",
       "\n",
       "    .dataframe tbody tr th {\n",
       "        vertical-align: top;\n",
       "    }\n",
       "\n",
       "    .dataframe thead th {\n",
       "        text-align: right;\n",
       "    }\n",
       "</style>\n",
       "<table border=\"1\" class=\"dataframe\">\n",
       "  <thead>\n",
       "    <tr style=\"text-align: right;\">\n",
       "      <th></th>\n",
       "      <th>id</th>\n",
       "      <th>ds_level</th>\n",
       "      <th>country_code</th>\n",
       "      <th>Total visit</th>\n",
       "      <th>browser</th>\n",
       "      <th>platform</th>\n",
       "      <th>Total User</th>\n",
       "      <th>사용자</th>\n",
       "      <th>세션</th>\n",
       "      <th>신규방문자</th>\n",
       "      <th>페이지뷰</th>\n",
       "    </tr>\n",
       "    <tr>\n",
       "      <th>c_time</th>\n",
       "      <th></th>\n",
       "      <th></th>\n",
       "      <th></th>\n",
       "      <th></th>\n",
       "      <th></th>\n",
       "      <th></th>\n",
       "      <th></th>\n",
       "      <th></th>\n",
       "      <th></th>\n",
       "      <th></th>\n",
       "      <th></th>\n",
       "    </tr>\n",
       "  </thead>\n",
       "  <tbody>\n",
       "    <tr>\n",
       "      <th>2018-09-09 01:00:00</th>\n",
       "      <td>1.0</td>\n",
       "      <td>1.0</td>\n",
       "      <td>1.0</td>\n",
       "      <td>-99.0</td>\n",
       "      <td>-99.0</td>\n",
       "      <td>-99.0</td>\n",
       "      <td>-99.0</td>\n",
       "      <td>20.0</td>\n",
       "      <td>19.0</td>\n",
       "      <td>9.0</td>\n",
       "      <td>259.0</td>\n",
       "    </tr>\n",
       "    <tr>\n",
       "      <th>2018-09-09 03:00:00</th>\n",
       "      <td>1.0</td>\n",
       "      <td>1.0</td>\n",
       "      <td>1.0</td>\n",
       "      <td>-99.0</td>\n",
       "      <td>-99.0</td>\n",
       "      <td>-99.0</td>\n",
       "      <td>-99.0</td>\n",
       "      <td>10.0</td>\n",
       "      <td>10.0</td>\n",
       "      <td>2.0</td>\n",
       "      <td>102.0</td>\n",
       "    </tr>\n",
       "    <tr>\n",
       "      <th>2018-09-09 13:00:00</th>\n",
       "      <td>3.0</td>\n",
       "      <td>1.0</td>\n",
       "      <td>1.0</td>\n",
       "      <td>-99.0</td>\n",
       "      <td>-99.0</td>\n",
       "      <td>-99.0</td>\n",
       "      <td>-99.0</td>\n",
       "      <td>20.0</td>\n",
       "      <td>16.0</td>\n",
       "      <td>7.0</td>\n",
       "      <td>131.0</td>\n",
       "    </tr>\n",
       "    <tr>\n",
       "      <th>2018-09-09 18:00:00</th>\n",
       "      <td>1.0</td>\n",
       "      <td>1.0</td>\n",
       "      <td>1.0</td>\n",
       "      <td>-99.0</td>\n",
       "      <td>-99.0</td>\n",
       "      <td>-99.0</td>\n",
       "      <td>-99.0</td>\n",
       "      <td>13.0</td>\n",
       "      <td>12.0</td>\n",
       "      <td>2.0</td>\n",
       "      <td>47.0</td>\n",
       "    </tr>\n",
       "    <tr>\n",
       "      <th>2018-09-09 21:00:00</th>\n",
       "      <td>2.0</td>\n",
       "      <td>1.0</td>\n",
       "      <td>1.0</td>\n",
       "      <td>-99.0</td>\n",
       "      <td>-99.0</td>\n",
       "      <td>-99.0</td>\n",
       "      <td>-99.0</td>\n",
       "      <td>17.0</td>\n",
       "      <td>17.0</td>\n",
       "      <td>7.0</td>\n",
       "      <td>107.0</td>\n",
       "    </tr>\n",
       "    <tr>\n",
       "      <th>...</th>\n",
       "      <td>...</td>\n",
       "      <td>...</td>\n",
       "      <td>...</td>\n",
       "      <td>...</td>\n",
       "      <td>...</td>\n",
       "      <td>...</td>\n",
       "      <td>...</td>\n",
       "      <td>...</td>\n",
       "      <td>...</td>\n",
       "      <td>...</td>\n",
       "      <td>...</td>\n",
       "    </tr>\n",
       "    <tr>\n",
       "      <th>2019-12-30 07:00:00</th>\n",
       "      <td>-99.0</td>\n",
       "      <td>-99.0</td>\n",
       "      <td>-99.0</td>\n",
       "      <td>1.0</td>\n",
       "      <td>1.0</td>\n",
       "      <td>1.0</td>\n",
       "      <td>1.0</td>\n",
       "      <td>12.0</td>\n",
       "      <td>14.0</td>\n",
       "      <td>3.0</td>\n",
       "      <td>72.0</td>\n",
       "    </tr>\n",
       "    <tr>\n",
       "      <th>2019-12-30 08:00:00</th>\n",
       "      <td>-99.0</td>\n",
       "      <td>-99.0</td>\n",
       "      <td>-99.0</td>\n",
       "      <td>7.0</td>\n",
       "      <td>3.0</td>\n",
       "      <td>3.0</td>\n",
       "      <td>6.0</td>\n",
       "      <td>29.0</td>\n",
       "      <td>29.0</td>\n",
       "      <td>5.0</td>\n",
       "      <td>274.0</td>\n",
       "    </tr>\n",
       "    <tr>\n",
       "      <th>2019-12-30 12:00:00</th>\n",
       "      <td>-99.0</td>\n",
       "      <td>-99.0</td>\n",
       "      <td>-99.0</td>\n",
       "      <td>16.0</td>\n",
       "      <td>5.0</td>\n",
       "      <td>4.0</td>\n",
       "      <td>16.0</td>\n",
       "      <td>58.0</td>\n",
       "      <td>59.0</td>\n",
       "      <td>18.0</td>\n",
       "      <td>624.0</td>\n",
       "    </tr>\n",
       "    <tr>\n",
       "      <th>2019-12-30 15:00:00</th>\n",
       "      <td>-99.0</td>\n",
       "      <td>-99.0</td>\n",
       "      <td>-99.0</td>\n",
       "      <td>36.0</td>\n",
       "      <td>7.0</td>\n",
       "      <td>5.0</td>\n",
       "      <td>34.0</td>\n",
       "      <td>100.0</td>\n",
       "      <td>100.0</td>\n",
       "      <td>28.0</td>\n",
       "      <td>1196.0</td>\n",
       "    </tr>\n",
       "    <tr>\n",
       "      <th>2019-12-30 20:00:00</th>\n",
       "      <td>-99.0</td>\n",
       "      <td>-99.0</td>\n",
       "      <td>-99.0</td>\n",
       "      <td>18.0</td>\n",
       "      <td>2.0</td>\n",
       "      <td>5.0</td>\n",
       "      <td>16.0</td>\n",
       "      <td>49.0</td>\n",
       "      <td>53.0</td>\n",
       "      <td>16.0</td>\n",
       "      <td>658.0</td>\n",
       "    </tr>\n",
       "  </tbody>\n",
       "</table>\n",
       "<p>13459 rows × 11 columns</p>\n",
       "</div>"
      ],
      "text/plain": [
       "                       id  ds_level  country_code  Total visit  browser  \\\n",
       "c_time                                                                    \n",
       "2018-09-09 01:00:00   1.0       1.0           1.0        -99.0    -99.0   \n",
       "2018-09-09 03:00:00   1.0       1.0           1.0        -99.0    -99.0   \n",
       "2018-09-09 13:00:00   3.0       1.0           1.0        -99.0    -99.0   \n",
       "2018-09-09 18:00:00   1.0       1.0           1.0        -99.0    -99.0   \n",
       "2018-09-09 21:00:00   2.0       1.0           1.0        -99.0    -99.0   \n",
       "...                   ...       ...           ...          ...      ...   \n",
       "2019-12-30 07:00:00 -99.0     -99.0         -99.0          1.0      1.0   \n",
       "2019-12-30 08:00:00 -99.0     -99.0         -99.0          7.0      3.0   \n",
       "2019-12-30 12:00:00 -99.0     -99.0         -99.0         16.0      5.0   \n",
       "2019-12-30 15:00:00 -99.0     -99.0         -99.0         36.0      7.0   \n",
       "2019-12-30 20:00:00 -99.0     -99.0         -99.0         18.0      2.0   \n",
       "\n",
       "                     platform  Total User    사용자     세션  신규방문자    페이지뷰  \n",
       "c_time                                                                  \n",
       "2018-09-09 01:00:00     -99.0       -99.0   20.0   19.0    9.0   259.0  \n",
       "2018-09-09 03:00:00     -99.0       -99.0   10.0   10.0    2.0   102.0  \n",
       "2018-09-09 13:00:00     -99.0       -99.0   20.0   16.0    7.0   131.0  \n",
       "2018-09-09 18:00:00     -99.0       -99.0   13.0   12.0    2.0    47.0  \n",
       "2018-09-09 21:00:00     -99.0       -99.0   17.0   17.0    7.0   107.0  \n",
       "...                       ...         ...    ...    ...    ...     ...  \n",
       "2019-12-30 07:00:00       1.0         1.0   12.0   14.0    3.0    72.0  \n",
       "2019-12-30 08:00:00       3.0         6.0   29.0   29.0    5.0   274.0  \n",
       "2019-12-30 12:00:00       4.0        16.0   58.0   59.0   18.0   624.0  \n",
       "2019-12-30 15:00:00       5.0        34.0  100.0  100.0   28.0  1196.0  \n",
       "2019-12-30 20:00:00       5.0        16.0   49.0   53.0   16.0   658.0  \n",
       "\n",
       "[13459 rows x 11 columns]"
      ]
     },
     "execution_count": 5,
     "metadata": {},
     "output_type": "execute_result"
    }
   ],
   "source": [
    "df"
   ]
  },
  {
   "cell_type": "markdown",
   "metadata": {},
   "source": [
    "# baseline"
   ]
  },
  {
   "cell_type": "code",
   "execution_count": 6,
   "metadata": {},
   "outputs": [],
   "source": [
    "epochs = 200\n",
    "batch_size = 128\n",
    "verbose = 1\n",
    "nb_classes = 4\n",
    "n_hidden = 128\n",
    "validation_split = 0.2\n",
    "\n",
    "rate = 0.2\n",
    "rate_size = int(len(df) * rate)\n",
    "\n",
    "train = df[:-rate_size]\n",
    "test = df[-rate_size:]"
   ]
  },
  {
   "cell_type": "code",
   "execution_count": 7,
   "metadata": {},
   "outputs": [
    {
     "name": "stdout",
     "output_type": "stream",
     "text": [
      "Index(['id', 'ds_level', 'country_code', 'Total visit', 'browser', 'platform',\n",
      "       'Total User'],\n",
      "      dtype='object') Index(['사용자', '세션', '신규방문자', '페이지뷰'], dtype='object')\n"
     ]
    }
   ],
   "source": [
    "x_col = train.columns[:7]\n",
    "y_col = train.columns[7:]\n",
    "print(x_col, y_col)"
   ]
  },
  {
   "cell_type": "code",
   "execution_count": 8,
   "metadata": {},
   "outputs": [],
   "source": [
    "X_train = train[x_col]\n",
    "Y_train = train[y_col]\n",
    "X_test = test[x_col]\n",
    "Y_test = test[y_col]"
   ]
  },
  {
   "cell_type": "code",
   "execution_count": 9,
   "metadata": {},
   "outputs": [
    {
     "name": "stdout",
     "output_type": "stream",
     "text": [
      "(10768, 7) (2691, 7)\n"
     ]
    }
   ],
   "source": [
    "print(X_train.shape, X_test.shape)"
   ]
  },
  {
   "cell_type": "code",
   "execution_count": 10,
   "metadata": {},
   "outputs": [],
   "source": [
    "model = tf.keras.models.Sequential()\n",
    "model.add(keras.layers.Dense(n_hidden, input_shape=(7,), \n",
    "                             activation ='relu'))\n",
    "model.add(keras.layers.Dropout(0.3))\n",
    "model.add(keras.layers.Dense(n_hidden,\n",
    "                            activation='relu'))\n",
    "model.add(keras.layers.Dropout(0.3))\n",
    "model.add(keras.layers.Dense(nb_classes,\n",
    "                            activation='relu'))"
   ]
  },
  {
   "cell_type": "code",
   "execution_count": 11,
   "metadata": {},
   "outputs": [],
   "source": [
    "model.compile(optimizer = 'SGD',\n",
    "             loss = 'MSE',\n",
    "             metrics=['accuracy'])"
   ]
  },
  {
   "cell_type": "code",
   "execution_count": 12,
   "metadata": {},
   "outputs": [
    {
     "name": "stdout",
     "output_type": "stream",
     "text": [
      "Model: \"sequential\"\n",
      "_________________________________________________________________\n",
      "Layer (type)                 Output Shape              Param #   \n",
      "=================================================================\n",
      "dense (Dense)                (None, 128)               1024      \n",
      "_________________________________________________________________\n",
      "dropout (Dropout)            (None, 128)               0         \n",
      "_________________________________________________________________\n",
      "dense_1 (Dense)              (None, 128)               16512     \n",
      "_________________________________________________________________\n",
      "dropout_1 (Dropout)          (None, 128)               0         \n",
      "_________________________________________________________________\n",
      "dense_2 (Dense)              (None, 4)                 516       \n",
      "=================================================================\n",
      "Total params: 18,052\n",
      "Trainable params: 18,052\n",
      "Non-trainable params: 0\n",
      "_________________________________________________________________\n"
     ]
    }
   ],
   "source": [
    "model.summary()"
   ]
  },
  {
   "cell_type": "code",
   "execution_count": 13,
   "metadata": {},
   "outputs": [
    {
     "name": "stdout",
     "output_type": "stream",
     "text": [
      "Epoch 1/200\n",
      "68/68 [==============================] - 0s 3ms/step - loss: 43424691625610504375894016.0000 - accuracy: 0.0302 - val_loss: 7409.7153 - val_accuracy: 0.0065\n",
      "Epoch 2/200\n",
      "68/68 [==============================] - 0s 1ms/step - loss: 1752734.5000 - accuracy: 0.0072 - val_loss: 7409.7153 - val_accuracy: 0.0065\n",
      "Epoch 3/200\n",
      "68/68 [==============================] - 0s 1ms/step - loss: 1752734.6250 - accuracy: 0.0072 - val_loss: 7409.7153 - val_accuracy: 0.0065\n",
      "Epoch 4/200\n",
      "68/68 [==============================] - 0s 1ms/step - loss: 1752734.6250 - accuracy: 0.0072 - val_loss: 7409.7153 - val_accuracy: 0.0065\n",
      "Epoch 5/200\n",
      "68/68 [==============================] - 0s 1ms/step - loss: 1752734.6250 - accuracy: 0.0072 - val_loss: 7409.7153 - val_accuracy: 0.0065\n",
      "Epoch 6/200\n",
      "68/68 [==============================] - 0s 1ms/step - loss: 1752734.6250 - accuracy: 0.0072 - val_loss: 7409.7153 - val_accuracy: 0.0065\n",
      "Epoch 7/200\n",
      "68/68 [==============================] - 0s 1ms/step - loss: 1752734.5000 - accuracy: 0.0072 - val_loss: 7409.7153 - val_accuracy: 0.0065\n",
      "Epoch 8/200\n",
      "68/68 [==============================] - 0s 1ms/step - loss: 1752734.2500 - accuracy: 0.0072 - val_loss: 7409.7153 - val_accuracy: 0.0065\n",
      "Epoch 9/200\n",
      "68/68 [==============================] - 0s 1ms/step - loss: 1752734.6250 - accuracy: 0.0072 - val_loss: 7409.7153 - val_accuracy: 0.0065\n",
      "Epoch 10/200\n",
      "68/68 [==============================] - 0s 1ms/step - loss: 1752734.7500 - accuracy: 0.0072 - val_loss: 7409.7153 - val_accuracy: 0.0065\n",
      "Epoch 11/200\n",
      "68/68 [==============================] - 0s 1ms/step - loss: 1752734.6250 - accuracy: 0.0072 - val_loss: 7409.7153 - val_accuracy: 0.0065\n",
      "Epoch 12/200\n",
      "68/68 [==============================] - 0s 1ms/step - loss: 1752734.6250 - accuracy: 0.0072 - val_loss: 7409.7153 - val_accuracy: 0.0065\n",
      "Epoch 13/200\n",
      "68/68 [==============================] - 0s 1ms/step - loss: 1752734.7500 - accuracy: 0.0072 - val_loss: 7409.7153 - val_accuracy: 0.0065\n",
      "Epoch 14/200\n",
      "68/68 [==============================] - 0s 1ms/step - loss: 1752734.6250 - accuracy: 0.0072 - val_loss: 7409.7153 - val_accuracy: 0.0065\n",
      "Epoch 15/200\n",
      "68/68 [==============================] - 0s 1ms/step - loss: 1752734.7500 - accuracy: 0.0072 - val_loss: 7409.7153 - val_accuracy: 0.0065\n",
      "Epoch 16/200\n",
      "68/68 [==============================] - 0s 1ms/step - loss: 1752734.5000 - accuracy: 0.0072 - val_loss: 7409.7153 - val_accuracy: 0.0065\n",
      "Epoch 17/200\n",
      "68/68 [==============================] - 0s 1ms/step - loss: 1752734.6250 - accuracy: 0.0072 - val_loss: 7409.7153 - val_accuracy: 0.0065\n",
      "Epoch 18/200\n",
      "68/68 [==============================] - 0s 1ms/step - loss: 1752734.5000 - accuracy: 0.0072 - val_loss: 7409.7153 - val_accuracy: 0.0065\n",
      "Epoch 19/200\n",
      "68/68 [==============================] - 0s 1ms/step - loss: 1752734.2500 - accuracy: 0.0072 - val_loss: 7409.7153 - val_accuracy: 0.0065\n",
      "Epoch 20/200\n",
      "68/68 [==============================] - 0s 1ms/step - loss: 1752734.7500 - accuracy: 0.0072 - val_loss: 7409.7153 - val_accuracy: 0.0065\n",
      "Epoch 21/200\n",
      "68/68 [==============================] - 0s 1ms/step - loss: 1752734.6250 - accuracy: 0.0072 - val_loss: 7409.7153 - val_accuracy: 0.0065\n",
      "Epoch 22/200\n",
      "68/68 [==============================] - 0s 1ms/step - loss: 1752734.5000 - accuracy: 0.0072 - val_loss: 7409.7153 - val_accuracy: 0.0065\n",
      "Epoch 23/200\n",
      "68/68 [==============================] - 0s 1ms/step - loss: 1752735.0000 - accuracy: 0.0072 - val_loss: 7409.7153 - val_accuracy: 0.0065\n",
      "Epoch 24/200\n",
      "68/68 [==============================] - 0s 1ms/step - loss: 1752734.6250 - accuracy: 0.0072 - val_loss: 7409.7153 - val_accuracy: 0.0065\n",
      "Epoch 25/200\n",
      "68/68 [==============================] - 0s 1ms/step - loss: 1752734.5000 - accuracy: 0.0072 - val_loss: 7409.7153 - val_accuracy: 0.0065\n",
      "Epoch 26/200\n",
      "68/68 [==============================] - 0s 1ms/step - loss: 1752734.3750 - accuracy: 0.0072 - val_loss: 7409.7153 - val_accuracy: 0.0065\n",
      "Epoch 27/200\n",
      "68/68 [==============================] - 0s 1ms/step - loss: 1752734.5000 - accuracy: 0.0072 - val_loss: 7409.7153 - val_accuracy: 0.0065\n",
      "Epoch 28/200\n",
      "68/68 [==============================] - 0s 1ms/step - loss: 1752734.5000 - accuracy: 0.0072 - val_loss: 7409.7153 - val_accuracy: 0.0065\n",
      "Epoch 29/200\n",
      "68/68 [==============================] - 0s 1ms/step - loss: 1752734.6250 - accuracy: 0.0072 - val_loss: 7409.7153 - val_accuracy: 0.0065\n",
      "Epoch 30/200\n",
      "68/68 [==============================] - 0s 1ms/step - loss: 1752734.6250 - accuracy: 0.0072 - val_loss: 7409.7153 - val_accuracy: 0.0065\n",
      "Epoch 31/200\n",
      "68/68 [==============================] - 0s 1ms/step - loss: 1752734.2500 - accuracy: 0.0072 - val_loss: 7409.7153 - val_accuracy: 0.0065\n",
      "Epoch 32/200\n",
      "68/68 [==============================] - 0s 1ms/step - loss: 1752734.7500 - accuracy: 0.0072 - val_loss: 7409.7153 - val_accuracy: 0.0065\n",
      "Epoch 33/200\n",
      "68/68 [==============================] - 0s 1ms/step - loss: 1752734.5000 - accuracy: 0.0072 - val_loss: 7409.7153 - val_accuracy: 0.0065\n",
      "Epoch 34/200\n",
      "68/68 [==============================] - 0s 1ms/step - loss: 1752734.7500 - accuracy: 0.0072 - val_loss: 7409.7153 - val_accuracy: 0.0065\n",
      "Epoch 35/200\n",
      "68/68 [==============================] - 0s 1ms/step - loss: 1752734.5000 - accuracy: 0.0072 - val_loss: 7409.7153 - val_accuracy: 0.0065\n",
      "Epoch 36/200\n",
      "68/68 [==============================] - 0s 1ms/step - loss: 1752734.8750 - accuracy: 0.0072 - val_loss: 7409.7153 - val_accuracy: 0.0065\n",
      "Epoch 37/200\n",
      "68/68 [==============================] - 0s 997us/step - loss: 1752734.5000 - accuracy: 0.0072 - val_loss: 7409.7153 - val_accuracy: 0.0065\n",
      "Epoch 38/200\n",
      "68/68 [==============================] - 0s 950us/step - loss: 1752734.3750 - accuracy: 0.0072 - val_loss: 7409.7153 - val_accuracy: 0.0065\n",
      "Epoch 39/200\n",
      "68/68 [==============================] - 0s 942us/step - loss: 1752734.6250 - accuracy: 0.0072 - val_loss: 7409.7153 - val_accuracy: 0.0065\n",
      "Epoch 40/200\n",
      "68/68 [==============================] - 0s 949us/step - loss: 1752734.5000 - accuracy: 0.0072 - val_loss: 7409.7153 - val_accuracy: 0.0065\n",
      "Epoch 41/200\n",
      "68/68 [==============================] - 0s 969us/step - loss: 1752734.6250 - accuracy: 0.0072 - val_loss: 7409.7153 - val_accuracy: 0.0065\n",
      "Epoch 42/200\n",
      "68/68 [==============================] - 0s 964us/step - loss: 1752734.7500 - accuracy: 0.0072 - val_loss: 7409.7153 - val_accuracy: 0.0065\n",
      "Epoch 43/200\n",
      "68/68 [==============================] - 0s 950us/step - loss: 1752734.7500 - accuracy: 0.0072 - val_loss: 7409.7153 - val_accuracy: 0.0065\n",
      "Epoch 44/200\n",
      "68/68 [==============================] - 0s 949us/step - loss: 1752734.5000 - accuracy: 0.0072 - val_loss: 7409.7153 - val_accuracy: 0.0065\n",
      "Epoch 45/200\n",
      "68/68 [==============================] - 0s 951us/step - loss: 1752734.6250 - accuracy: 0.0072 - val_loss: 7409.7153 - val_accuracy: 0.0065\n",
      "Epoch 46/200\n",
      "68/68 [==============================] - 0s 950us/step - loss: 1752734.1250 - accuracy: 0.0072 - val_loss: 7409.7153 - val_accuracy: 0.0065\n",
      "Epoch 47/200\n",
      "68/68 [==============================] - 0s 946us/step - loss: 1752734.8750 - accuracy: 0.0072 - val_loss: 7409.7153 - val_accuracy: 0.0065\n",
      "Epoch 48/200\n",
      "68/68 [==============================] - 0s 951us/step - loss: 1752734.5000 - accuracy: 0.0072 - val_loss: 7409.7153 - val_accuracy: 0.0065\n",
      "Epoch 49/200\n",
      "68/68 [==============================] - 0s 952us/step - loss: 1752734.3750 - accuracy: 0.0072 - val_loss: 7409.7153 - val_accuracy: 0.0065\n",
      "Epoch 50/200\n",
      "68/68 [==============================] - 0s 949us/step - loss: 1752734.5000 - accuracy: 0.0072 - val_loss: 7409.7153 - val_accuracy: 0.0065\n",
      "Epoch 51/200\n",
      "68/68 [==============================] - 0s 946us/step - loss: 1752734.2500 - accuracy: 0.0072 - val_loss: 7409.7153 - val_accuracy: 0.0065\n",
      "Epoch 52/200\n",
      "68/68 [==============================] - 0s 951us/step - loss: 1752734.7500 - accuracy: 0.0072 - val_loss: 7409.7153 - val_accuracy: 0.0065\n",
      "Epoch 53/200\n",
      "68/68 [==============================] - 0s 935us/step - loss: 1752734.5000 - accuracy: 0.0072 - val_loss: 7409.7153 - val_accuracy: 0.0065\n",
      "Epoch 54/200\n",
      "68/68 [==============================] - 0s 972us/step - loss: 1752734.5000 - accuracy: 0.0072 - val_loss: 7409.7153 - val_accuracy: 0.0065\n"
     ]
    },
    {
     "name": "stdout",
     "output_type": "stream",
     "text": [
      "Epoch 55/200\n",
      "68/68 [==============================] - 0s 1ms/step - loss: 1752734.5000 - accuracy: 0.0072 - val_loss: 7409.7153 - val_accuracy: 0.0065\n",
      "Epoch 56/200\n",
      "68/68 [==============================] - 0s 1ms/step - loss: 1752734.6250 - accuracy: 0.0072 - val_loss: 7409.7153 - val_accuracy: 0.0065\n",
      "Epoch 57/200\n",
      "68/68 [==============================] - 0s 1ms/step - loss: 1752734.6250 - accuracy: 0.0072 - val_loss: 7409.7153 - val_accuracy: 0.0065\n",
      "Epoch 58/200\n",
      "68/68 [==============================] - 0s 1ms/step - loss: 1752734.5000 - accuracy: 0.0072 - val_loss: 7409.7153 - val_accuracy: 0.0065\n",
      "Epoch 59/200\n",
      "68/68 [==============================] - 0s 1ms/step - loss: nan - accuracy: 0.0073 - val_loss: nan - val_accuracy: 0.0065\n",
      "Epoch 60/200\n",
      "68/68 [==============================] - 0s 1ms/step - loss: nan - accuracy: 0.0072 - val_loss: nan - val_accuracy: 0.0065\n",
      "Epoch 61/200\n",
      "68/68 [==============================] - 0s 1ms/step - loss: nan - accuracy: 0.0072 - val_loss: nan - val_accuracy: 0.0065\n",
      "Epoch 62/200\n",
      "68/68 [==============================] - 0s 1ms/step - loss: nan - accuracy: 0.0072 - val_loss: nan - val_accuracy: 0.0065\n",
      "Epoch 63/200\n",
      "68/68 [==============================] - 0s 1ms/step - loss: nan - accuracy: 0.0072 - val_loss: nan - val_accuracy: 0.0065\n",
      "Epoch 64/200\n",
      "68/68 [==============================] - 0s 1ms/step - loss: nan - accuracy: 0.0072 - val_loss: nan - val_accuracy: 0.0065\n",
      "Epoch 65/200\n",
      "68/68 [==============================] - 0s 2ms/step - loss: nan - accuracy: 0.0072 - val_loss: nan - val_accuracy: 0.0065\n",
      "Epoch 66/200\n",
      "68/68 [==============================] - 0s 2ms/step - loss: nan - accuracy: 0.0072 - val_loss: nan - val_accuracy: 0.0065\n",
      "Epoch 67/200\n",
      "68/68 [==============================] - 0s 2ms/step - loss: nan - accuracy: 0.0072 - val_loss: nan - val_accuracy: 0.0065\n",
      "Epoch 68/200\n",
      "68/68 [==============================] - 0s 2ms/step - loss: nan - accuracy: 0.0072 - val_loss: nan - val_accuracy: 0.0065\n",
      "Epoch 69/200\n",
      "68/68 [==============================] - 0s 2ms/step - loss: nan - accuracy: 0.0072 - val_loss: nan - val_accuracy: 0.0065\n",
      "Epoch 70/200\n",
      "68/68 [==============================] - 0s 2ms/step - loss: nan - accuracy: 0.0072 - val_loss: nan - val_accuracy: 0.0065\n",
      "Epoch 71/200\n",
      "68/68 [==============================] - 0s 2ms/step - loss: nan - accuracy: 0.0072 - val_loss: nan - val_accuracy: 0.0065\n",
      "Epoch 72/200\n",
      "68/68 [==============================] - 0s 1ms/step - loss: nan - accuracy: 0.0072 - val_loss: nan - val_accuracy: 0.0065\n",
      "Epoch 73/200\n",
      "68/68 [==============================] - 0s 1ms/step - loss: nan - accuracy: 0.0072 - val_loss: nan - val_accuracy: 0.0065\n",
      "Epoch 74/200\n",
      "68/68 [==============================] - 0s 1ms/step - loss: nan - accuracy: 0.0072 - val_loss: nan - val_accuracy: 0.0065\n",
      "Epoch 75/200\n",
      "68/68 [==============================] - 0s 1ms/step - loss: nan - accuracy: 0.0072 - val_loss: nan - val_accuracy: 0.0065\n",
      "Epoch 76/200\n",
      "68/68 [==============================] - 0s 1ms/step - loss: nan - accuracy: 0.0072 - val_loss: nan - val_accuracy: 0.0065\n",
      "Epoch 77/200\n",
      "68/68 [==============================] - 0s 1ms/step - loss: nan - accuracy: 0.0072 - val_loss: nan - val_accuracy: 0.0065\n",
      "Epoch 78/200\n",
      "68/68 [==============================] - 0s 1ms/step - loss: nan - accuracy: 0.0072 - val_loss: nan - val_accuracy: 0.0065\n",
      "Epoch 79/200\n",
      "68/68 [==============================] - 0s 1ms/step - loss: nan - accuracy: 0.0072 - val_loss: nan - val_accuracy: 0.0065\n",
      "Epoch 80/200\n",
      "68/68 [==============================] - 0s 1ms/step - loss: nan - accuracy: 0.0072 - val_loss: nan - val_accuracy: 0.0065\n",
      "Epoch 81/200\n",
      "68/68 [==============================] - 0s 1ms/step - loss: nan - accuracy: 0.0072 - val_loss: nan - val_accuracy: 0.0065\n",
      "Epoch 82/200\n",
      "68/68 [==============================] - 0s 1ms/step - loss: nan - accuracy: 0.0072 - val_loss: nan - val_accuracy: 0.0065\n",
      "Epoch 83/200\n",
      "68/68 [==============================] - 0s 1ms/step - loss: nan - accuracy: 0.0072 - val_loss: nan - val_accuracy: 0.0065\n",
      "Epoch 84/200\n",
      "68/68 [==============================] - 0s 1ms/step - loss: nan - accuracy: 0.0072 - val_loss: nan - val_accuracy: 0.0065\n",
      "Epoch 85/200\n",
      "68/68 [==============================] - 0s 1ms/step - loss: nan - accuracy: 0.0072 - val_loss: nan - val_accuracy: 0.0065\n",
      "Epoch 86/200\n",
      "68/68 [==============================] - 0s 1ms/step - loss: nan - accuracy: 0.0072 - val_loss: nan - val_accuracy: 0.0065\n",
      "Epoch 87/200\n",
      "68/68 [==============================] - 0s 2ms/step - loss: nan - accuracy: 0.0072 - val_loss: nan - val_accuracy: 0.0065\n",
      "Epoch 88/200\n",
      "68/68 [==============================] - 0s 1ms/step - loss: nan - accuracy: 0.0072 - val_loss: nan - val_accuracy: 0.0065\n",
      "Epoch 89/200\n",
      "68/68 [==============================] - 0s 1ms/step - loss: nan - accuracy: 0.0072 - val_loss: nan - val_accuracy: 0.0065\n",
      "Epoch 90/200\n",
      "68/68 [==============================] - 0s 1ms/step - loss: nan - accuracy: 0.0072 - val_loss: nan - val_accuracy: 0.0065\n",
      "Epoch 91/200\n",
      "68/68 [==============================] - 0s 1ms/step - loss: nan - accuracy: 0.0072 - val_loss: nan - val_accuracy: 0.0065\n",
      "Epoch 92/200\n",
      "68/68 [==============================] - 0s 1ms/step - loss: nan - accuracy: 0.0072 - val_loss: nan - val_accuracy: 0.0065\n",
      "Epoch 93/200\n",
      "68/68 [==============================] - 0s 1ms/step - loss: nan - accuracy: 0.0072 - val_loss: nan - val_accuracy: 0.0065\n",
      "Epoch 94/200\n",
      "68/68 [==============================] - 0s 1ms/step - loss: nan - accuracy: 0.0072 - val_loss: nan - val_accuracy: 0.0065\n",
      "Epoch 95/200\n",
      "68/68 [==============================] - 0s 1ms/step - loss: nan - accuracy: 0.0072 - val_loss: nan - val_accuracy: 0.0065\n",
      "Epoch 96/200\n",
      "68/68 [==============================] - 0s 1ms/step - loss: nan - accuracy: 0.0072 - val_loss: nan - val_accuracy: 0.0065\n",
      "Epoch 97/200\n",
      "68/68 [==============================] - 0s 1ms/step - loss: nan - accuracy: 0.0072 - val_loss: nan - val_accuracy: 0.0065\n",
      "Epoch 98/200\n",
      "68/68 [==============================] - 0s 1ms/step - loss: nan - accuracy: 0.0072 - val_loss: nan - val_accuracy: 0.0065\n",
      "Epoch 99/200\n",
      "68/68 [==============================] - 0s 1ms/step - loss: nan - accuracy: 0.0072 - val_loss: nan - val_accuracy: 0.0065\n",
      "Epoch 100/200\n",
      "68/68 [==============================] - 0s 1ms/step - loss: nan - accuracy: 0.0072 - val_loss: nan - val_accuracy: 0.0065\n",
      "Epoch 101/200\n",
      "68/68 [==============================] - 0s 1ms/step - loss: nan - accuracy: 0.0072 - val_loss: nan - val_accuracy: 0.0065\n",
      "Epoch 102/200\n",
      "68/68 [==============================] - 0s 1ms/step - loss: nan - accuracy: 0.0072 - val_loss: nan - val_accuracy: 0.0065\n",
      "Epoch 103/200\n",
      "68/68 [==============================] - 0s 1ms/step - loss: nan - accuracy: 0.0072 - val_loss: nan - val_accuracy: 0.0065\n",
      "Epoch 104/200\n",
      "68/68 [==============================] - 0s 1ms/step - loss: nan - accuracy: 0.0072 - val_loss: nan - val_accuracy: 0.0065\n",
      "Epoch 105/200\n",
      "68/68 [==============================] - 0s 1ms/step - loss: nan - accuracy: 0.0072 - val_loss: nan - val_accuracy: 0.0065\n",
      "Epoch 106/200\n",
      "68/68 [==============================] - 0s 1ms/step - loss: nan - accuracy: 0.0072 - val_loss: nan - val_accuracy: 0.0065\n",
      "Epoch 107/200\n",
      "68/68 [==============================] - 0s 982us/step - loss: nan - accuracy: 0.0072 - val_loss: nan - val_accuracy: 0.0065\n",
      "Epoch 108/200\n",
      "68/68 [==============================] - 0s 1ms/step - loss: nan - accuracy: 0.0072 - val_loss: nan - val_accuracy: 0.0065\n",
      "Epoch 109/200\n",
      "68/68 [==============================] - 0s 1ms/step - loss: nan - accuracy: 0.0072 - val_loss: nan - val_accuracy: 0.0065\n",
      "Epoch 110/200\n",
      "68/68 [==============================] - 0s 1ms/step - loss: nan - accuracy: 0.0072 - val_loss: nan - val_accuracy: 0.0065\n",
      "Epoch 111/200\n",
      "68/68 [==============================] - 0s 1ms/step - loss: nan - accuracy: 0.0072 - val_loss: nan - val_accuracy: 0.0065\n",
      "Epoch 112/200\n",
      "68/68 [==============================] - 0s 1ms/step - loss: nan - accuracy: 0.0072 - val_loss: nan - val_accuracy: 0.0065\n",
      "Epoch 113/200\n",
      "68/68 [==============================] - 0s 1ms/step - loss: nan - accuracy: 0.0072 - val_loss: nan - val_accuracy: 0.0065\n",
      "Epoch 114/200\n"
     ]
    },
    {
     "name": "stdout",
     "output_type": "stream",
     "text": [
      "68/68 [==============================] - 0s 1ms/step - loss: nan - accuracy: 0.0072 - val_loss: nan - val_accuracy: 0.0065\n",
      "Epoch 115/200\n",
      "68/68 [==============================] - 0s 1ms/step - loss: nan - accuracy: 0.0072 - val_loss: nan - val_accuracy: 0.0065\n",
      "Epoch 116/200\n",
      "68/68 [==============================] - 0s 1ms/step - loss: nan - accuracy: 0.0072 - val_loss: nan - val_accuracy: 0.0065\n",
      "Epoch 117/200\n",
      "68/68 [==============================] - 0s 1ms/step - loss: nan - accuracy: 0.0072 - val_loss: nan - val_accuracy: 0.0065\n",
      "Epoch 118/200\n",
      "68/68 [==============================] - 0s 944us/step - loss: nan - accuracy: 0.0072 - val_loss: nan - val_accuracy: 0.0065\n",
      "Epoch 119/200\n",
      "68/68 [==============================] - 0s 951us/step - loss: nan - accuracy: 0.0072 - val_loss: nan - val_accuracy: 0.0065\n",
      "Epoch 120/200\n",
      "68/68 [==============================] - 0s 954us/step - loss: nan - accuracy: 0.0072 - val_loss: nan - val_accuracy: 0.0065\n",
      "Epoch 121/200\n",
      "68/68 [==============================] - 0s 963us/step - loss: nan - accuracy: 0.0072 - val_loss: nan - val_accuracy: 0.0065\n",
      "Epoch 122/200\n",
      "68/68 [==============================] - 0s 948us/step - loss: nan - accuracy: 0.0072 - val_loss: nan - val_accuracy: 0.0065\n",
      "Epoch 123/200\n",
      "68/68 [==============================] - 0s 955us/step - loss: nan - accuracy: 0.0072 - val_loss: nan - val_accuracy: 0.0065\n",
      "Epoch 124/200\n",
      "68/68 [==============================] - 0s 968us/step - loss: nan - accuracy: 0.0072 - val_loss: nan - val_accuracy: 0.0065\n",
      "Epoch 125/200\n",
      "68/68 [==============================] - 0s 960us/step - loss: nan - accuracy: 0.0072 - val_loss: nan - val_accuracy: 0.0065\n",
      "Epoch 126/200\n",
      "68/68 [==============================] - 0s 955us/step - loss: nan - accuracy: 0.0072 - val_loss: nan - val_accuracy: 0.0065\n",
      "Epoch 127/200\n",
      "68/68 [==============================] - 0s 1ms/step - loss: nan - accuracy: 0.0072 - val_loss: nan - val_accuracy: 0.0065\n",
      "Epoch 128/200\n",
      "68/68 [==============================] - 0s 1ms/step - loss: nan - accuracy: 0.0072 - val_loss: nan - val_accuracy: 0.0065\n",
      "Epoch 129/200\n",
      "68/68 [==============================] - 0s 1ms/step - loss: nan - accuracy: 0.0072 - val_loss: nan - val_accuracy: 0.0065\n",
      "Epoch 130/200\n",
      "68/68 [==============================] - 0s 992us/step - loss: nan - accuracy: 0.0072 - val_loss: nan - val_accuracy: 0.0065\n",
      "Epoch 131/200\n",
      "68/68 [==============================] - 0s 955us/step - loss: nan - accuracy: 0.0072 - val_loss: nan - val_accuracy: 0.0065\n",
      "Epoch 132/200\n",
      "68/68 [==============================] - 0s 954us/step - loss: nan - accuracy: 0.0072 - val_loss: nan - val_accuracy: 0.0065\n",
      "Epoch 133/200\n",
      "68/68 [==============================] - 0s 943us/step - loss: nan - accuracy: 0.0072 - val_loss: nan - val_accuracy: 0.0065\n",
      "Epoch 134/200\n",
      "68/68 [==============================] - 0s 945us/step - loss: nan - accuracy: 0.0072 - val_loss: nan - val_accuracy: 0.0065\n",
      "Epoch 135/200\n",
      "68/68 [==============================] - 0s 946us/step - loss: nan - accuracy: 0.0072 - val_loss: nan - val_accuracy: 0.0065\n",
      "Epoch 136/200\n",
      "68/68 [==============================] - 0s 980us/step - loss: nan - accuracy: 0.0072 - val_loss: nan - val_accuracy: 0.0065\n",
      "Epoch 137/200\n",
      "68/68 [==============================] - 0s 1ms/step - loss: nan - accuracy: 0.0072 - val_loss: nan - val_accuracy: 0.0065\n",
      "Epoch 138/200\n",
      "68/68 [==============================] - 0s 977us/step - loss: nan - accuracy: 0.0072 - val_loss: nan - val_accuracy: 0.0065\n",
      "Epoch 139/200\n",
      "68/68 [==============================] - 0s 973us/step - loss: nan - accuracy: 0.0072 - val_loss: nan - val_accuracy: 0.0065\n",
      "Epoch 140/200\n",
      "68/68 [==============================] - 0s 1ms/step - loss: nan - accuracy: 0.0072 - val_loss: nan - val_accuracy: 0.0065\n",
      "Epoch 141/200\n",
      "68/68 [==============================] - 0s 1ms/step - loss: nan - accuracy: 0.0072 - val_loss: nan - val_accuracy: 0.0065\n",
      "Epoch 142/200\n",
      "68/68 [==============================] - 0s 1ms/step - loss: nan - accuracy: 0.0072 - val_loss: nan - val_accuracy: 0.0065\n",
      "Epoch 143/200\n",
      "68/68 [==============================] - 0s 1ms/step - loss: nan - accuracy: 0.0072 - val_loss: nan - val_accuracy: 0.0065\n",
      "Epoch 144/200\n",
      "68/68 [==============================] - 0s 997us/step - loss: nan - accuracy: 0.0072 - val_loss: nan - val_accuracy: 0.0065\n",
      "Epoch 145/200\n",
      "68/68 [==============================] - 0s 951us/step - loss: nan - accuracy: 0.0072 - val_loss: nan - val_accuracy: 0.0065\n",
      "Epoch 146/200\n",
      "68/68 [==============================] - 0s 950us/step - loss: nan - accuracy: 0.0072 - val_loss: nan - val_accuracy: 0.0065\n",
      "Epoch 147/200\n",
      "68/68 [==============================] - 0s 970us/step - loss: nan - accuracy: 0.0072 - val_loss: nan - val_accuracy: 0.0065\n",
      "Epoch 148/200\n",
      "68/68 [==============================] - 0s 986us/step - loss: nan - accuracy: 0.0072 - val_loss: nan - val_accuracy: 0.0065\n",
      "Epoch 149/200\n",
      "68/68 [==============================] - 0s 944us/step - loss: nan - accuracy: 0.0072 - val_loss: nan - val_accuracy: 0.0065\n",
      "Epoch 150/200\n",
      "68/68 [==============================] - 0s 949us/step - loss: nan - accuracy: 0.0072 - val_loss: nan - val_accuracy: 0.0065\n",
      "Epoch 151/200\n",
      "68/68 [==============================] - 0s 952us/step - loss: nan - accuracy: 0.0072 - val_loss: nan - val_accuracy: 0.0065\n",
      "Epoch 152/200\n",
      "68/68 [==============================] - 0s 954us/step - loss: nan - accuracy: 0.0072 - val_loss: nan - val_accuracy: 0.0065\n",
      "Epoch 153/200\n",
      "68/68 [==============================] - 0s 956us/step - loss: nan - accuracy: 0.0072 - val_loss: nan - val_accuracy: 0.0065\n",
      "Epoch 154/200\n",
      "68/68 [==============================] - 0s 954us/step - loss: nan - accuracy: 0.0072 - val_loss: nan - val_accuracy: 0.0065\n",
      "Epoch 155/200\n",
      "68/68 [==============================] - 0s 952us/step - loss: nan - accuracy: 0.0072 - val_loss: nan - val_accuracy: 0.0065\n",
      "Epoch 156/200\n",
      "68/68 [==============================] - 0s 944us/step - loss: nan - accuracy: 0.0072 - val_loss: nan - val_accuracy: 0.0065\n",
      "Epoch 157/200\n",
      "68/68 [==============================] - 0s 947us/step - loss: nan - accuracy: 0.0072 - val_loss: nan - val_accuracy: 0.0065\n",
      "Epoch 158/200\n",
      "68/68 [==============================] - 0s 942us/step - loss: nan - accuracy: 0.0072 - val_loss: nan - val_accuracy: 0.0065\n",
      "Epoch 159/200\n",
      "68/68 [==============================] - 0s 954us/step - loss: nan - accuracy: 0.0072 - val_loss: nan - val_accuracy: 0.0065\n",
      "Epoch 160/200\n",
      "68/68 [==============================] - 0s 946us/step - loss: nan - accuracy: 0.0072 - val_loss: nan - val_accuracy: 0.0065\n",
      "Epoch 161/200\n",
      "68/68 [==============================] - 0s 951us/step - loss: nan - accuracy: 0.0072 - val_loss: nan - val_accuracy: 0.0065\n",
      "Epoch 162/200\n",
      "68/68 [==============================] - 0s 952us/step - loss: nan - accuracy: 0.0072 - val_loss: nan - val_accuracy: 0.0065\n",
      "Epoch 163/200\n",
      "68/68 [==============================] - 0s 945us/step - loss: nan - accuracy: 0.0072 - val_loss: nan - val_accuracy: 0.0065\n",
      "Epoch 164/200\n",
      "68/68 [==============================] - 0s 977us/step - loss: nan - accuracy: 0.0072 - val_loss: nan - val_accuracy: 0.0065\n",
      "Epoch 165/200\n",
      "68/68 [==============================] - 0s 950us/step - loss: nan - accuracy: 0.0072 - val_loss: nan - val_accuracy: 0.0065\n",
      "Epoch 166/200\n",
      "68/68 [==============================] - 0s 946us/step - loss: nan - accuracy: 0.0072 - val_loss: nan - val_accuracy: 0.0065\n",
      "Epoch 167/200\n",
      "68/68 [==============================] - 0s 945us/step - loss: nan - accuracy: 0.0072 - val_loss: nan - val_accuracy: 0.0065\n",
      "Epoch 168/200\n",
      "68/68 [==============================] - 0s 970us/step - loss: nan - accuracy: 0.0072 - val_loss: nan - val_accuracy: 0.0065\n",
      "Epoch 169/200\n",
      "68/68 [==============================] - 0s 939us/step - loss: nan - accuracy: 0.0072 - val_loss: nan - val_accuracy: 0.0065\n",
      "Epoch 170/200\n",
      "68/68 [==============================] - 0s 965us/step - loss: nan - accuracy: 0.0072 - val_loss: nan - val_accuracy: 0.0065\n",
      "Epoch 171/200\n",
      "68/68 [==============================] - 0s 948us/step - loss: nan - accuracy: 0.0072 - val_loss: nan - val_accuracy: 0.0065\n",
      "Epoch 172/200\n",
      "68/68 [==============================] - 0s 951us/step - loss: nan - accuracy: 0.0072 - val_loss: nan - val_accuracy: 0.0065\n",
      "Epoch 173/200\n"
     ]
    },
    {
     "name": "stdout",
     "output_type": "stream",
     "text": [
      "68/68 [==============================] - 0s 940us/step - loss: nan - accuracy: 0.0072 - val_loss: nan - val_accuracy: 0.0065\n",
      "Epoch 174/200\n",
      "68/68 [==============================] - 0s 960us/step - loss: nan - accuracy: 0.0072 - val_loss: nan - val_accuracy: 0.0065\n",
      "Epoch 175/200\n",
      "68/68 [==============================] - 0s 952us/step - loss: nan - accuracy: 0.0072 - val_loss: nan - val_accuracy: 0.0065\n",
      "Epoch 176/200\n",
      "68/68 [==============================] - 0s 952us/step - loss: nan - accuracy: 0.0072 - val_loss: nan - val_accuracy: 0.0065\n",
      "Epoch 177/200\n",
      "68/68 [==============================] - 0s 948us/step - loss: nan - accuracy: 0.0072 - val_loss: nan - val_accuracy: 0.0065\n",
      "Epoch 178/200\n",
      "68/68 [==============================] - 0s 955us/step - loss: nan - accuracy: 0.0072 - val_loss: nan - val_accuracy: 0.0065\n",
      "Epoch 179/200\n",
      "68/68 [==============================] - 0s 947us/step - loss: nan - accuracy: 0.0072 - val_loss: nan - val_accuracy: 0.0065\n",
      "Epoch 180/200\n",
      "68/68 [==============================] - 0s 950us/step - loss: nan - accuracy: 0.0072 - val_loss: nan - val_accuracy: 0.0065\n",
      "Epoch 181/200\n",
      "68/68 [==============================] - 0s 945us/step - loss: nan - accuracy: 0.0072 - val_loss: nan - val_accuracy: 0.0065\n",
      "Epoch 182/200\n",
      "68/68 [==============================] - 0s 948us/step - loss: nan - accuracy: 0.0072 - val_loss: nan - val_accuracy: 0.0065\n",
      "Epoch 183/200\n",
      "68/68 [==============================] - 0s 946us/step - loss: nan - accuracy: 0.0072 - val_loss: nan - val_accuracy: 0.0065\n",
      "Epoch 184/200\n",
      "68/68 [==============================] - 0s 957us/step - loss: nan - accuracy: 0.0072 - val_loss: nan - val_accuracy: 0.0065\n",
      "Epoch 185/200\n",
      "68/68 [==============================] - 0s 949us/step - loss: nan - accuracy: 0.0072 - val_loss: nan - val_accuracy: 0.0065\n",
      "Epoch 186/200\n",
      "68/68 [==============================] - 0s 942us/step - loss: nan - accuracy: 0.0072 - val_loss: nan - val_accuracy: 0.0065\n",
      "Epoch 187/200\n",
      "68/68 [==============================] - 0s 1ms/step - loss: nan - accuracy: 0.0072 - val_loss: nan - val_accuracy: 0.0065\n",
      "Epoch 188/200\n",
      "68/68 [==============================] - 0s 971us/step - loss: nan - accuracy: 0.0072 - val_loss: nan - val_accuracy: 0.0065\n",
      "Epoch 189/200\n",
      "68/68 [==============================] - 0s 952us/step - loss: nan - accuracy: 0.0072 - val_loss: nan - val_accuracy: 0.0065\n",
      "Epoch 190/200\n",
      "68/68 [==============================] - 0s 956us/step - loss: nan - accuracy: 0.0072 - val_loss: nan - val_accuracy: 0.0065\n",
      "Epoch 191/200\n",
      "68/68 [==============================] - 0s 929us/step - loss: nan - accuracy: 0.0072 - val_loss: nan - val_accuracy: 0.0065\n",
      "Epoch 192/200\n",
      "68/68 [==============================] - 0s 997us/step - loss: nan - accuracy: 0.0072 - val_loss: nan - val_accuracy: 0.0065\n",
      "Epoch 193/200\n",
      "68/68 [==============================] - 0s 955us/step - loss: nan - accuracy: 0.0072 - val_loss: nan - val_accuracy: 0.0065\n",
      "Epoch 194/200\n",
      "68/68 [==============================] - 0s 947us/step - loss: nan - accuracy: 0.0072 - val_loss: nan - val_accuracy: 0.0065\n",
      "Epoch 195/200\n",
      "68/68 [==============================] - 0s 951us/step - loss: nan - accuracy: 0.0072 - val_loss: nan - val_accuracy: 0.0065\n",
      "Epoch 196/200\n",
      "68/68 [==============================] - 0s 939us/step - loss: nan - accuracy: 0.0072 - val_loss: nan - val_accuracy: 0.0065\n",
      "Epoch 197/200\n",
      "68/68 [==============================] - 0s 955us/step - loss: nan - accuracy: 0.0072 - val_loss: nan - val_accuracy: 0.0065\n",
      "Epoch 198/200\n",
      "68/68 [==============================] - 0s 947us/step - loss: nan - accuracy: 0.0072 - val_loss: nan - val_accuracy: 0.0065\n",
      "Epoch 199/200\n",
      "68/68 [==============================] - 0s 982us/step - loss: nan - accuracy: 0.0072 - val_loss: nan - val_accuracy: 0.0065\n",
      "Epoch 200/200\n",
      "68/68 [==============================] - 0s 1ms/step - loss: nan - accuracy: 0.0072 - val_loss: nan - val_accuracy: 0.0065\n"
     ]
    }
   ],
   "source": [
    "history = model.fit(X_train,Y_train,\n",
    "             batch_size=batch_size, epochs=epochs,\n",
    "             verbose=verbose, validation_split=validation_split)"
   ]
  },
  {
   "cell_type": "code",
   "execution_count": 14,
   "metadata": {},
   "outputs": [],
   "source": [
    "val_loss_history = history.history['val_loss']"
   ]
  },
  {
   "cell_type": "code",
   "execution_count": 15,
   "metadata": {},
   "outputs": [
    {
     "data": {
      "image/png": "[encoded data removed]",
      "text/plain": [
       "<Figure size 432x288 with 1 Axes>"
      ]
     },
     "metadata": {
      "needs_background": "light"
     },
     "output_type": "display_data"
    }
   ],
   "source": [
    "import matplotlib.pyplot as plt\n",
    "\n",
    "plt.plot(range(1, len(val_loss_history) + 1), val_loss_history)\n",
    "plt.xlabel('Epochs')\n",
    "plt.ylabel('Validation MAE')\n",
    "plt.show()"
   ]
  },
  {
   "cell_type": "code",
   "execution_count": 16,
   "metadata": {
    "scrolled": true
   },
   "outputs": [
    {
     "name": "stdout",
     "output_type": "stream",
     "text": [
      "85/85 [==============================] - 0s 548us/step - loss: nan - accuracy: 0.0000e+00\n",
      "Test ACC :  0.0\n"
     ]
    }
   ],
   "source": [
    "test_loss, test_acc = model.evaluate(X_test,Y_test)\n",
    "print('Test ACC : ', test_acc)"
   ]
  },
  {
   "cell_type": "markdown",
   "metadata": {},
   "source": [
    "# 첫 번째 최적화 : Optimizer 조정"
   ]
  },
  {
   "cell_type": "markdown",
   "metadata": {},
   "source": [
    "### 1. Optimizer = ADAM"
   ]
  },
  {
   "cell_type": "code",
   "execution_count": 17,
   "metadata": {},
   "outputs": [],
   "source": [
    "model = tf.keras.models.Sequential()\n",
    "model.add(keras.layers.Dense(n_hidden, input_shape=(7,),\n",
    "                            activation='relu'))\n",
    "model.add(keras.layers.Dense(n_hidden,\n",
    "                            activation='relu'))\n",
    "model.add(keras.layers.Dense(nb_classes))"
   ]
  },
  {
   "cell_type": "code",
   "execution_count": 18,
   "metadata": {},
   "outputs": [
    {
     "name": "stdout",
     "output_type": "stream",
     "text": [
      "Model: \"sequential_1\"\n",
      "_________________________________________________________________\n",
      "Layer (type)                 Output Shape              Param #   \n",
      "=================================================================\n",
      "dense_3 (Dense)              (None, 128)               1024      \n",
      "_________________________________________________________________\n",
      "dense_4 (Dense)              (None, 128)               16512     \n",
      "_________________________________________________________________\n",
      "dense_5 (Dense)              (None, 4)                 516       \n",
      "=================================================================\n",
      "Total params: 18,052\n",
      "Trainable params: 18,052\n",
      "Non-trainable params: 0\n",
      "_________________________________________________________________\n"
     ]
    }
   ],
   "source": [
    "model.summary()"
   ]
  },
  {
   "cell_type": "code",
   "execution_count": 19,
   "metadata": {},
   "outputs": [],
   "source": [
    "model.compile(optimizer = 'adam',\n",
    "             loss = 'MSE',\n",
    "             metrics=['accuracy'])"
   ]
  },
  {
   "cell_type": "code",
   "execution_count": 20,
   "metadata": {
    "scrolled": true
   },
   "outputs": [],
   "source": [
    "history = model.fit(X_train,Y_train,\n",
    "             batch_size=batch_size, epochs=epochs,\n",
    "             verbose=0, validation_split=validation_split)"
   ]
  },
  {
   "cell_type": "code",
   "execution_count": 21,
   "metadata": {
    "scrolled": false
   },
   "outputs": [
    {
     "name": "stdout",
     "output_type": "stream",
     "text": [
      "85/85 [==============================] - 0s 453us/step - loss: 12754.6445 - accuracy: 1.0000\n",
      "Test ACC :  1.0\n"
     ]
    }
   ],
   "source": [
    "test_loss, test_acc = model.evaluate(X_test,Y_test)\n",
    "print('Test ACC : ', test_acc)"
   ]
  },
  {
   "cell_type": "code",
   "execution_count": 22,
   "metadata": {},
   "outputs": [],
   "source": [
    "loss_history =history.history['val_loss']"
   ]
  },
  {
   "cell_type": "code",
   "execution_count": 23,
   "metadata": {
    "scrolled": true
   },
   "outputs": [
    {
     "data": {
      "image/png": "[encoded data removed]",
      "text/plain": [
       "<Figure size 432x288 with 1 Axes>"
      ]
     },
     "metadata": {
      "needs_background": "light"
     },
     "output_type": "display_data"
    }
   ],
   "source": [
    "import matplotlib.pyplot as plt\n",
    "\n",
    "plt.plot(range(1, len(loss_history) + 1), loss_history)\n",
    "plt.xlabel('Epochs')\n",
    "plt.ylabel('Validation MAE')\n",
    "plt.show()"
   ]
  },
  {
   "cell_type": "code",
   "execution_count": 24,
   "metadata": {},
   "outputs": [
    {
     "data": {
      "text/plain": [
       "2734.741943359375"
      ]
     },
     "execution_count": 24,
     "metadata": {},
     "output_type": "execute_result"
    }
   ],
   "source": [
    "min(loss_history)"
   ]
  },
  {
   "cell_type": "markdown",
   "metadata": {},
   "source": [
    "### 2. Optimizer = RMSProp"
   ]
  },
  {
   "cell_type": "code",
   "execution_count": 25,
   "metadata": {},
   "outputs": [],
   "source": [
    "model = tf.keras.models.Sequential()\n",
    "model.add(keras.layers.Dense(n_hidden, input_shape=(7,),\n",
    "                            activation='relu'))\n",
    "model.add(keras.layers.Dense(n_hidden,\n",
    "                            activation='relu'))\n",
    "model.add(keras.layers.Dense(nb_classes))"
   ]
  },
  {
   "cell_type": "code",
   "execution_count": 26,
   "metadata": {},
   "outputs": [],
   "source": [
    "model.compile(optimizer = 'RMSProp',\n",
    "             loss = 'MSE',\n",
    "             metrics=['accuracy'])"
   ]
  },
  {
   "cell_type": "code",
   "execution_count": 27,
   "metadata": {},
   "outputs": [
    {
     "name": "stdout",
     "output_type": "stream",
     "text": [
      "Model: \"sequential_2\"\n",
      "_________________________________________________________________\n",
      "Layer (type)                 Output Shape              Param #   \n",
      "=================================================================\n",
      "dense_6 (Dense)              (None, 128)               1024      \n",
      "_________________________________________________________________\n",
      "dense_7 (Dense)              (None, 128)               16512     \n",
      "_________________________________________________________________\n",
      "dense_8 (Dense)              (None, 4)                 516       \n",
      "=================================================================\n",
      "Total params: 18,052\n",
      "Trainable params: 18,052\n",
      "Non-trainable params: 0\n",
      "_________________________________________________________________\n"
     ]
    }
   ],
   "source": [
    "model.summary()"
   ]
  },
  {
   "cell_type": "code",
   "execution_count": 28,
   "metadata": {
    "scrolled": true
   },
   "outputs": [],
   "source": [
    "history = model.fit(X_train,Y_train,\n",
    "             batch_size=batch_size, epochs=epochs,\n",
    "             verbose=0, validation_split=validation_split)"
   ]
  },
  {
   "cell_type": "code",
   "execution_count": 29,
   "metadata": {
    "scrolled": true
   },
   "outputs": [
    {
     "name": "stdout",
     "output_type": "stream",
     "text": [
      "85/85 [==============================] - 0s 455us/step - loss: 7722.2944 - accuracy: 1.0000\n",
      "Test ACC :  1.0\n"
     ]
    }
   ],
   "source": [
    "test_loss, test_acc = model.evaluate(X_test,Y_test)\n",
    "print('Test ACC : ', test_acc)"
   ]
  },
  {
   "cell_type": "code",
   "execution_count": 30,
   "metadata": {},
   "outputs": [],
   "source": [
    "loss_history =history.history['val_loss']"
   ]
  },
  {
   "cell_type": "code",
   "execution_count": 31,
   "metadata": {},
   "outputs": [
    {
     "data": {
      "image/png": "[encoded data removed]",
      "text/plain": [
       "<Figure size 432x288 with 1 Axes>"
      ]
     },
     "metadata": {
      "needs_background": "light"
     },
     "output_type": "display_data"
    }
   ],
   "source": [
    "import matplotlib.pyplot as plt\n",
    "\n",
    "plt.plot(range(1, len(loss_history) + 1), loss_history)\n",
    "plt.xlabel('Epochs')\n",
    "plt.ylabel('Validation MAE')\n",
    "plt.show()"
   ]
  },
  {
   "cell_type": "code",
   "execution_count": 32,
   "metadata": {},
   "outputs": [
    {
     "data": {
      "text/plain": [
       "2694.31591796875"
      ]
     },
     "execution_count": 32,
     "metadata": {},
     "output_type": "execute_result"
    }
   ],
   "source": [
    "min(loss_history)"
   ]
  },
  {
   "cell_type": "markdown",
   "metadata": {},
   "source": [
    "# 두 번째 최적화 : epochs 수 증가"
   ]
  },
  {
   "cell_type": "code",
   "execution_count": 33,
   "metadata": {},
   "outputs": [],
   "source": [
    "model = tf.keras.models.Sequential()\n",
    "model.add(keras.layers.Dense(n_hidden, input_shape=(7,),\n",
    "                            activation='relu'))\n",
    "model.add(keras.layers.Dense(n_hidden,\n",
    "                            activation='relu'))\n",
    "model.add(keras.layers.Dense(nb_classes))"
   ]
  },
  {
   "cell_type": "code",
   "execution_count": 34,
   "metadata": {},
   "outputs": [
    {
     "name": "stdout",
     "output_type": "stream",
     "text": [
      "Model: \"sequential_3\"\n",
      "_________________________________________________________________\n",
      "Layer (type)                 Output Shape              Param #   \n",
      "=================================================================\n",
      "dense_9 (Dense)              (None, 128)               1024      \n",
      "_________________________________________________________________\n",
      "dense_10 (Dense)             (None, 128)               16512     \n",
      "_________________________________________________________________\n",
      "dense_11 (Dense)             (None, 4)                 516       \n",
      "=================================================================\n",
      "Total params: 18,052\n",
      "Trainable params: 18,052\n",
      "Non-trainable params: 0\n",
      "_________________________________________________________________\n"
     ]
    }
   ],
   "source": [
    "model.summary()"
   ]
  },
  {
   "cell_type": "code",
   "execution_count": 35,
   "metadata": {},
   "outputs": [],
   "source": [
    "model.compile(optimizer = 'adam',\n",
    "             loss = 'MSE',\n",
    "             metrics=['accuracy'])"
   ]
  },
  {
   "cell_type": "code",
   "execution_count": 36,
   "metadata": {
    "scrolled": true
   },
   "outputs": [],
   "source": [
    "history = model.fit(X_train,Y_train,\n",
    "             batch_size=batch_size, epochs=300,\n",
    "             verbose=0, validation_split=validation_split)"
   ]
  },
  {
   "cell_type": "code",
   "execution_count": 37,
   "metadata": {
    "scrolled": false
   },
   "outputs": [
    {
     "name": "stdout",
     "output_type": "stream",
     "text": [
      "85/85 [==============================] - 0s 449us/step - loss: 13674.3721 - accuracy: 1.0000\n",
      "Test ACC :  1.0\n"
     ]
    }
   ],
   "source": [
    "test_loss, test_acc = model.evaluate(X_test,Y_test)\n",
    "print('Test ACC : ', test_acc)"
   ]
  },
  {
   "cell_type": "code",
   "execution_count": 38,
   "metadata": {},
   "outputs": [],
   "source": [
    "loss_history =history.history['val_loss']"
   ]
  },
  {
   "cell_type": "code",
   "execution_count": 39,
   "metadata": {},
   "outputs": [
    {
     "data": {
      "image/png": "[encoded data removed]",
      "text/plain": [
       "<Figure size 432x288 with 1 Axes>"
      ]
     },
     "metadata": {
      "needs_background": "light"
     },
     "output_type": "display_data"
    }
   ],
   "source": [
    "import matplotlib.pyplot as plt\n",
    "\n",
    "plt.plot(range(1, len(loss_history) + 1), loss_history)\n",
    "plt.xlabel('Epochs')\n",
    "plt.ylabel('Validation MAE')\n",
    "plt.show()"
   ]
  },
  {
   "cell_type": "code",
   "execution_count": 40,
   "metadata": {},
   "outputs": [
    {
     "data": {
      "text/plain": [
       "2802.05126953125"
      ]
     },
     "execution_count": 40,
     "metadata": {},
     "output_type": "execute_result"
    }
   ],
   "source": [
    "min(loss_history)"
   ]
  },
  {
   "cell_type": "markdown",
   "metadata": {},
   "source": [
    "### RMSProp / epochs = 300"
   ]
  },
  {
   "cell_type": "code",
   "execution_count": 41,
   "metadata": {},
   "outputs": [],
   "source": [
    "model = tf.keras.models.Sequential()\n",
    "model.add(keras.layers.Dense(n_hidden, input_shape=(7,),\n",
    "                            activation='relu'))\n",
    "model.add(keras.layers.Dense(n_hidden,\n",
    "                            activation='relu'))\n",
    "model.add(keras.layers.Dense(nb_classes))"
   ]
  },
  {
   "cell_type": "code",
   "execution_count": 42,
   "metadata": {},
   "outputs": [],
   "source": [
    "model.compile(optimizer = 'RMSProp',\n",
    "             loss = 'MSE',\n",
    "             metrics=['accuracy'])"
   ]
  },
  {
   "cell_type": "code",
   "execution_count": 43,
   "metadata": {},
   "outputs": [
    {
     "name": "stdout",
     "output_type": "stream",
     "text": [
      "Model: \"sequential_4\"\n",
      "_________________________________________________________________\n",
      "Layer (type)                 Output Shape              Param #   \n",
      "=================================================================\n",
      "dense_12 (Dense)             (None, 128)               1024      \n",
      "_________________________________________________________________\n",
      "dense_13 (Dense)             (None, 128)               16512     \n",
      "_________________________________________________________________\n",
      "dense_14 (Dense)             (None, 4)                 516       \n",
      "=================================================================\n",
      "Total params: 18,052\n",
      "Trainable params: 18,052\n",
      "Non-trainable params: 0\n",
      "_________________________________________________________________\n"
     ]
    }
   ],
   "source": [
    "model.summary()"
   ]
  },
  {
   "cell_type": "code",
   "execution_count": 44,
   "metadata": {
    "scrolled": true
   },
   "outputs": [],
   "source": [
    "history = model.fit(X_train,Y_train,\n",
    "             batch_size=batch_size, epochs=300,\n",
    "             verbose=0, validation_split=validation_split)"
   ]
  },
  {
   "cell_type": "code",
   "execution_count": 45,
   "metadata": {
    "scrolled": true
   },
   "outputs": [
    {
     "name": "stdout",
     "output_type": "stream",
     "text": [
      "85/85 [==============================] - 0s 444us/step - loss: 14048.9189 - accuracy: 1.0000\n",
      "Test ACC :  1.0\n"
     ]
    }
   ],
   "source": [
    "test_loss, test_acc = model.evaluate(X_test,Y_test)\n",
    "print('Test ACC : ', test_acc)"
   ]
  },
  {
   "cell_type": "code",
   "execution_count": 46,
   "metadata": {},
   "outputs": [],
   "source": [
    "loss_history =history.history['val_loss']"
   ]
  },
  {
   "cell_type": "code",
   "execution_count": 47,
   "metadata": {},
   "outputs": [
    {
     "data": {
      "image/png": "[encoded data removed]",
      "text/plain": [
       "<Figure size 432x288 with 1 Axes>"
      ]
     },
     "metadata": {
      "needs_background": "light"
     },
     "output_type": "display_data"
    }
   ],
   "source": [
    "import matplotlib.pyplot as plt\n",
    "\n",
    "plt.plot(range(1, len(loss_history) + 1), loss_history)\n",
    "plt.xlabel('Epochs')\n",
    "plt.ylabel('Validation MAE')\n",
    "plt.show()"
   ]
  },
  {
   "cell_type": "code",
   "execution_count": 48,
   "metadata": {},
   "outputs": [
    {
     "data": {
      "text/plain": [
       "2700.064208984375"
      ]
     },
     "execution_count": 48,
     "metadata": {},
     "output_type": "execute_result"
    }
   ],
   "source": [
    "min(loss_history)"
   ]
  },
  {
   "cell_type": "markdown",
   "metadata": {},
   "source": [
    "# 세 번째 최적화 : 학습률 조정"
   ]
  },
  {
   "cell_type": "markdown",
   "metadata": {},
   "source": [
    "# 학습률 0.01"
   ]
  },
  {
   "cell_type": "code",
   "execution_count": 49,
   "metadata": {},
   "outputs": [],
   "source": [
    "model = tf.keras.models.Sequential()\n",
    "model.add(keras.layers.Dense(n_hidden, input_shape=(7,),\n",
    "                            activation='relu'))\n",
    "model.add(keras.layers.Dense(n_hidden,\n",
    "                            activation='relu'))\n",
    "model.add(keras.layers.Dense(nb_classes))"
   ]
  },
  {
   "cell_type": "code",
   "execution_count": 50,
   "metadata": {
    "scrolled": true
   },
   "outputs": [
    {
     "name": "stdout",
     "output_type": "stream",
     "text": [
      "Model: \"sequential_5\"\n",
      "_________________________________________________________________\n",
      "Layer (type)                 Output Shape              Param #   \n",
      "=================================================================\n",
      "dense_15 (Dense)             (None, 128)               1024      \n",
      "_________________________________________________________________\n",
      "dense_16 (Dense)             (None, 128)               16512     \n",
      "_________________________________________________________________\n",
      "dense_17 (Dense)             (None, 4)                 516       \n",
      "=================================================================\n",
      "Total params: 18,052\n",
      "Trainable params: 18,052\n",
      "Non-trainable params: 0\n",
      "_________________________________________________________________\n"
     ]
    }
   ],
   "source": [
    "model.summary()"
   ]
  },
  {
   "cell_type": "code",
   "execution_count": 51,
   "metadata": {},
   "outputs": [],
   "source": [
    "model.compile(optimizer = optimizers.Adam(lr=0.01),\n",
    "             loss = 'MSE',\n",
    "             metrics=['accuracy'])"
   ]
  },
  {
   "cell_type": "code",
   "execution_count": 52,
   "metadata": {
    "scrolled": true
   },
   "outputs": [],
   "source": [
    "history = model.fit(X_train,Y_train,\n",
    "             batch_size=batch_size, epochs=300,\n",
    "             verbose=0, validation_split=validation_split)"
   ]
  },
  {
   "cell_type": "code",
   "execution_count": 53,
   "metadata": {
    "scrolled": false
   },
   "outputs": [
    {
     "name": "stdout",
     "output_type": "stream",
     "text": [
      "85/85 [==============================] - 0s 506us/step - loss: 19085.7207 - accuracy: 1.0000\n",
      "Test ACC :  1.0\n"
     ]
    }
   ],
   "source": [
    "test_loss, test_acc = model.evaluate(X_test,Y_test)\n",
    "print('Test ACC : ', test_acc)"
   ]
  },
  {
   "cell_type": "code",
   "execution_count": 54,
   "metadata": {},
   "outputs": [],
   "source": [
    "loss_history =history.history['val_loss']"
   ]
  },
  {
   "cell_type": "code",
   "execution_count": 55,
   "metadata": {},
   "outputs": [
    {
     "data": {
      "image/png": "[encoded data removed]",
      "text/plain": [
       "<Figure size 432x288 with 1 Axes>"
      ]
     },
     "metadata": {
      "needs_background": "light"
     },
     "output_type": "display_data"
    }
   ],
   "source": [
    "import matplotlib.pyplot as plt\n",
    "\n",
    "plt.plot(range(1, len(loss_history) + 1), loss_history)\n",
    "plt.xlabel('Epochs')\n",
    "plt.ylabel('Validation MAE')\n",
    "plt.show()"
   ]
  },
  {
   "cell_type": "code",
   "execution_count": 56,
   "metadata": {},
   "outputs": [
    {
     "data": {
      "text/plain": [
       "2879.984619140625"
      ]
     },
     "execution_count": 56,
     "metadata": {},
     "output_type": "execute_result"
    }
   ],
   "source": [
    "min(loss_history)"
   ]
  },
  {
   "cell_type": "markdown",
   "metadata": {},
   "source": [
    "# 학습률 0.1"
   ]
  },
  {
   "cell_type": "code",
   "execution_count": 57,
   "metadata": {},
   "outputs": [],
   "source": [
    "model = tf.keras.models.Sequential()\n",
    "model.add(keras.layers.Dense(n_hidden, input_shape=(7,),\n",
    "                            activation='relu'))\n",
    "model.add(keras.layers.Dense(n_hidden,\n",
    "                            activation='relu'))\n",
    "model.add(keras.layers.Dense(nb_classes))"
   ]
  },
  {
   "cell_type": "code",
   "execution_count": 58,
   "metadata": {
    "scrolled": true
   },
   "outputs": [
    {
     "name": "stdout",
     "output_type": "stream",
     "text": [
      "Model: \"sequential_6\"\n",
      "_________________________________________________________________\n",
      "Layer (type)                 Output Shape              Param #   \n",
      "=================================================================\n",
      "dense_18 (Dense)             (None, 128)               1024      \n",
      "_________________________________________________________________\n",
      "dense_19 (Dense)             (None, 128)               16512     \n",
      "_________________________________________________________________\n",
      "dense_20 (Dense)             (None, 4)                 516       \n",
      "=================================================================\n",
      "Total params: 18,052\n",
      "Trainable params: 18,052\n",
      "Non-trainable params: 0\n",
      "_________________________________________________________________\n"
     ]
    }
   ],
   "source": [
    "model.summary()"
   ]
  },
  {
   "cell_type": "code",
   "execution_count": 59,
   "metadata": {},
   "outputs": [],
   "source": [
    "model.compile(optimizer = optimizers.Adam(lr=0.1),\n",
    "             loss = 'MSE',\n",
    "             metrics=['accuracy'])"
   ]
  },
  {
   "cell_type": "code",
   "execution_count": 60,
   "metadata": {
    "scrolled": true
   },
   "outputs": [],
   "source": [
    "history = model.fit(X_train,Y_train,\n",
    "             batch_size=batch_size, epochs=300,\n",
    "             verbose=0, validation_split=validation_split)"
   ]
  },
  {
   "cell_type": "code",
   "execution_count": 61,
   "metadata": {
    "scrolled": false
   },
   "outputs": [
    {
     "name": "stdout",
     "output_type": "stream",
     "text": [
      "85/85 [==============================] - 0s 443us/step - loss: 21001.9668 - accuracy: 1.0000\n",
      "Test ACC :  1.0\n"
     ]
    }
   ],
   "source": [
    "test_loss, test_acc = model.evaluate(X_test,Y_test)\n",
    "print('Test ACC : ', test_acc)"
   ]
  },
  {
   "cell_type": "code",
   "execution_count": 62,
   "metadata": {},
   "outputs": [],
   "source": [
    "loss_history =history.history['val_loss']"
   ]
  },
  {
   "cell_type": "code",
   "execution_count": 63,
   "metadata": {},
   "outputs": [
    {
     "data": {
      "image/png": "[encoded data removed]",
      "text/plain": [
       "<Figure size 432x288 with 1 Axes>"
      ]
     },
     "metadata": {
      "needs_background": "light"
     },
     "output_type": "display_data"
    }
   ],
   "source": [
    "import matplotlib.pyplot as plt\n",
    "\n",
    "plt.plot(range(1, len(loss_history) + 1), loss_history)\n",
    "plt.xlabel('Epochs')\n",
    "plt.ylabel('Validation MAE')\n",
    "plt.show()"
   ]
  },
  {
   "cell_type": "code",
   "execution_count": 64,
   "metadata": {},
   "outputs": [
    {
     "data": {
      "text/plain": [
       "2780.896728515625"
      ]
     },
     "execution_count": 64,
     "metadata": {},
     "output_type": "execute_result"
    }
   ],
   "source": [
    "min(loss_history)"
   ]
  },
  {
   "cell_type": "markdown",
   "metadata": {},
   "source": [
    "# 네 번째 최적화 : 은닉층 갯수 증가"
   ]
  },
  {
   "cell_type": "markdown",
   "metadata": {},
   "source": [
    "# 뉴런 수 128 > 256"
   ]
  },
  {
   "cell_type": "code",
   "execution_count": 65,
   "metadata": {},
   "outputs": [],
   "source": [
    "model = tf.keras.models.Sequential()\n",
    "model.add(keras.layers.Dense(256, input_shape=(7,),\n",
    "                            activation='relu'))\n",
    "model.add(keras.layers.Dense(256,\n",
    "                            activation='relu'))\n",
    "model.add(keras.layers.Dense(nb_classes))"
   ]
  },
  {
   "cell_type": "code",
   "execution_count": 66,
   "metadata": {},
   "outputs": [
    {
     "name": "stdout",
     "output_type": "stream",
     "text": [
      "Model: \"sequential_7\"\n",
      "_________________________________________________________________\n",
      "Layer (type)                 Output Shape              Param #   \n",
      "=================================================================\n",
      "dense_21 (Dense)             (None, 256)               2048      \n",
      "_________________________________________________________________\n",
      "dense_22 (Dense)             (None, 256)               65792     \n",
      "_________________________________________________________________\n",
      "dense_23 (Dense)             (None, 4)                 1028      \n",
      "=================================================================\n",
      "Total params: 68,868\n",
      "Trainable params: 68,868\n",
      "Non-trainable params: 0\n",
      "_________________________________________________________________\n"
     ]
    }
   ],
   "source": [
    "model.summary()"
   ]
  },
  {
   "cell_type": "code",
   "execution_count": 67,
   "metadata": {},
   "outputs": [],
   "source": [
    "model.compile(optimizer = 'adam',\n",
    "             loss = 'MSE',\n",
    "             metrics=['accuracy'])"
   ]
  },
  {
   "cell_type": "code",
   "execution_count": 68,
   "metadata": {
    "scrolled": true
   },
   "outputs": [],
   "source": [
    "history = model.fit(X_train,Y_train,\n",
    "             batch_size=batch_size, epochs=epochs,\n",
    "             verbose=0, validation_split=validation_split)"
   ]
  },
  {
   "cell_type": "code",
   "execution_count": 69,
   "metadata": {
    "scrolled": false
   },
   "outputs": [
    {
     "name": "stdout",
     "output_type": "stream",
     "text": [
      "85/85 [==============================] - 0s 509us/step - loss: 10102.0820 - accuracy: 1.0000\n",
      "Test ACC :  1.0\n"
     ]
    }
   ],
   "source": [
    "test_loss, test_acc = model.evaluate(X_test,Y_test)\n",
    "print('Test ACC : ', test_acc)"
   ]
  },
  {
   "cell_type": "code",
   "execution_count": 70,
   "metadata": {},
   "outputs": [],
   "source": [
    "loss_history =history.history['val_loss']"
   ]
  },
  {
   "cell_type": "code",
   "execution_count": 71,
   "metadata": {
    "scrolled": false
   },
   "outputs": [
    {
     "data": {
      "image/png": "[encoded data removed]",
      "text/plain": [
       "<Figure size 432x288 with 1 Axes>"
      ]
     },
     "metadata": {
      "needs_background": "light"
     },
     "output_type": "display_data"
    }
   ],
   "source": [
    "import matplotlib.pyplot as plt\n",
    "\n",
    "plt.plot(range(1, len(loss_history) + 1), loss_history)\n",
    "plt.xlabel('Epochs')\n",
    "plt.ylabel('Validation MAE')\n",
    "plt.show()"
   ]
  },
  {
   "cell_type": "code",
   "execution_count": 72,
   "metadata": {},
   "outputs": [
    {
     "data": {
      "text/plain": [
       "2655.41015625"
      ]
     },
     "execution_count": 72,
     "metadata": {},
     "output_type": "execute_result"
    }
   ],
   "source": [
    "min(loss_history)"
   ]
  },
  {
   "cell_type": "markdown",
   "metadata": {},
   "source": [
    "# 뉴런 수 : 128 > 512"
   ]
  },
  {
   "cell_type": "code",
   "execution_count": 73,
   "metadata": {},
   "outputs": [],
   "source": [
    "model = tf.keras.models.Sequential()\n",
    "model.add(keras.layers.Dense(512, input_shape=(7,),\n",
    "                            activation='relu'))\n",
    "model.add(keras.layers.Dense(512,\n",
    "                            activation='relu'))\n",
    "model.add(keras.layers.Dense(nb_classes))"
   ]
  },
  {
   "cell_type": "code",
   "execution_count": 74,
   "metadata": {},
   "outputs": [
    {
     "name": "stdout",
     "output_type": "stream",
     "text": [
      "Model: \"sequential_8\"\n",
      "_________________________________________________________________\n",
      "Layer (type)                 Output Shape              Param #   \n",
      "=================================================================\n",
      "dense_24 (Dense)             (None, 512)               4096      \n",
      "_________________________________________________________________\n",
      "dense_25 (Dense)             (None, 512)               262656    \n",
      "_________________________________________________________________\n",
      "dense_26 (Dense)             (None, 4)                 2052      \n",
      "=================================================================\n",
      "Total params: 268,804\n",
      "Trainable params: 268,804\n",
      "Non-trainable params: 0\n",
      "_________________________________________________________________\n"
     ]
    }
   ],
   "source": [
    "model.summary()"
   ]
  },
  {
   "cell_type": "code",
   "execution_count": 75,
   "metadata": {},
   "outputs": [],
   "source": [
    "model.compile(optimizer = 'adam',\n",
    "             loss = 'MSE',\n",
    "             metrics=['accuracy'])"
   ]
  },
  {
   "cell_type": "code",
   "execution_count": 76,
   "metadata": {
    "scrolled": true
   },
   "outputs": [],
   "source": [
    "history = model.fit(X_train,Y_train,\n",
    "             batch_size=batch_size, epochs=epochs,\n",
    "             verbose=0, validation_split=validation_split)"
   ]
  },
  {
   "cell_type": "code",
   "execution_count": 77,
   "metadata": {
    "scrolled": false
   },
   "outputs": [
    {
     "name": "stdout",
     "output_type": "stream",
     "text": [
      "85/85 [==============================] - 0s 602us/step - loss: 10574.8965 - accuracy: 1.0000\n",
      "Test ACC :  1.0\n"
     ]
    }
   ],
   "source": [
    "test_loss, test_acc = model.evaluate(X_test,Y_test)\n",
    "print('Test ACC : ', test_acc)"
   ]
  },
  {
   "cell_type": "code",
   "execution_count": 78,
   "metadata": {},
   "outputs": [],
   "source": [
    "loss_history =history.history['val_loss']"
   ]
  },
  {
   "cell_type": "code",
   "execution_count": 79,
   "metadata": {
    "scrolled": true
   },
   "outputs": [
    {
     "data": {
      "image/png": "[encoded data removed]",
      "text/plain": [
       "<Figure size 432x288 with 1 Axes>"
      ]
     },
     "metadata": {
      "needs_background": "light"
     },
     "output_type": "display_data"
    }
   ],
   "source": [
    "import matplotlib.pyplot as plt\n",
    "\n",
    "plt.plot(range(1, len(loss_history) + 1), loss_history)\n",
    "plt.xlabel('Epochs')\n",
    "plt.ylabel('Validation MAE')\n",
    "plt.show()"
   ]
  },
  {
   "cell_type": "code",
   "execution_count": 80,
   "metadata": {},
   "outputs": [
    {
     "data": {
      "text/plain": [
       "2654.5888671875"
      ]
     },
     "execution_count": 80,
     "metadata": {},
     "output_type": "execute_result"
    }
   ],
   "source": [
    "min(loss_history)"
   ]
  },
  {
   "cell_type": "markdown",
   "metadata": {},
   "source": [
    "# 다섯 번째 최적화 : 배치 크기 조정"
   ]
  },
  {
   "cell_type": "markdown",
   "metadata": {},
   "source": [
    "# 배치 크기 128 > 64"
   ]
  },
  {
   "cell_type": "code",
   "execution_count": 81,
   "metadata": {},
   "outputs": [],
   "source": [
    "model = tf.keras.models.Sequential()\n",
    "model.add(keras.layers.Dense(n_hidden, input_shape=(7,),\n",
    "                            activation='relu'))\n",
    "model.add(keras.layers.Dense(n_hidden,\n",
    "                            activation='relu'))\n",
    "model.add(keras.layers.Dense(nb_classes))"
   ]
  },
  {
   "cell_type": "code",
   "execution_count": 82,
   "metadata": {},
   "outputs": [
    {
     "name": "stdout",
     "output_type": "stream",
     "text": [
      "Model: \"sequential_9\"\n",
      "_________________________________________________________________\n",
      "Layer (type)                 Output Shape              Param #   \n",
      "=================================================================\n",
      "dense_27 (Dense)             (None, 128)               1024      \n",
      "_________________________________________________________________\n",
      "dense_28 (Dense)             (None, 128)               16512     \n",
      "_________________________________________________________________\n",
      "dense_29 (Dense)             (None, 4)                 516       \n",
      "=================================================================\n",
      "Total params: 18,052\n",
      "Trainable params: 18,052\n",
      "Non-trainable params: 0\n",
      "_________________________________________________________________\n"
     ]
    }
   ],
   "source": [
    "model.summary()"
   ]
  },
  {
   "cell_type": "code",
   "execution_count": 83,
   "metadata": {},
   "outputs": [],
   "source": [
    "model.compile(optimizer = 'adam',\n",
    "             loss = 'MSE',\n",
    "             metrics=['accuracy'])"
   ]
  },
  {
   "cell_type": "code",
   "execution_count": 84,
   "metadata": {
    "scrolled": true
   },
   "outputs": [],
   "source": [
    "history = model.fit(X_train,Y_train,\n",
    "             batch_size=64, epochs=epochs,\n",
    "             verbose=0, validation_split=validation_split)"
   ]
  },
  {
   "cell_type": "code",
   "execution_count": 85,
   "metadata": {
    "scrolled": false
   },
   "outputs": [
    {
     "name": "stdout",
     "output_type": "stream",
     "text": [
      "85/85 [==============================] - 0s 458us/step - loss: 10424.5596 - accuracy: 1.0000\n",
      "Test ACC :  1.0\n"
     ]
    }
   ],
   "source": [
    "test_loss, test_acc = model.evaluate(X_test,Y_test)\n",
    "print('Test ACC : ', test_acc)"
   ]
  },
  {
   "cell_type": "code",
   "execution_count": 86,
   "metadata": {},
   "outputs": [],
   "source": [
    "loss_history =history.history['val_loss']"
   ]
  },
  {
   "cell_type": "code",
   "execution_count": 87,
   "metadata": {
    "scrolled": true
   },
   "outputs": [
    {
     "data": {
      "image/png": "[encoded data removed]",
      "text/plain": [
       "<Figure size 432x288 with 1 Axes>"
      ]
     },
     "metadata": {
      "needs_background": "light"
     },
     "output_type": "display_data"
    }
   ],
   "source": [
    "import matplotlib.pyplot as plt\n",
    "\n",
    "plt.plot(range(1, len(loss_history) + 1), loss_history)\n",
    "plt.xlabel('Epochs')\n",
    "plt.ylabel('Validation MAE')\n",
    "plt.show()"
   ]
  },
  {
   "cell_type": "code",
   "execution_count": 88,
   "metadata": {
    "scrolled": true
   },
   "outputs": [
    {
     "data": {
      "text/plain": [
       "2679.27685546875"
      ]
     },
     "execution_count": 88,
     "metadata": {},
     "output_type": "execute_result"
    }
   ],
   "source": [
    "min(loss_history)"
   ]
  },
  {
   "cell_type": "markdown",
   "metadata": {},
   "source": [
    "# 배치 크기 128 > 256"
   ]
  },
  {
   "cell_type": "code",
   "execution_count": 89,
   "metadata": {},
   "outputs": [],
   "source": [
    "model = tf.keras.models.Sequential()\n",
    "model.add(keras.layers.Dense(n_hidden, input_shape=(7,),\n",
    "                            activation='relu'))\n",
    "model.add(keras.layers.Dense(n_hidden,\n",
    "                            activation='relu'))\n",
    "model.add(keras.layers.Dense(nb_classes))"
   ]
  },
  {
   "cell_type": "code",
   "execution_count": 90,
   "metadata": {},
   "outputs": [
    {
     "name": "stdout",
     "output_type": "stream",
     "text": [
      "Model: \"sequential_10\"\n",
      "_________________________________________________________________\n",
      "Layer (type)                 Output Shape              Param #   \n",
      "=================================================================\n",
      "dense_30 (Dense)             (None, 128)               1024      \n",
      "_________________________________________________________________\n",
      "dense_31 (Dense)             (None, 128)               16512     \n",
      "_________________________________________________________________\n",
      "dense_32 (Dense)             (None, 4)                 516       \n",
      "=================================================================\n",
      "Total params: 18,052\n",
      "Trainable params: 18,052\n",
      "Non-trainable params: 0\n",
      "_________________________________________________________________\n"
     ]
    }
   ],
   "source": [
    "model.summary()"
   ]
  },
  {
   "cell_type": "code",
   "execution_count": 91,
   "metadata": {},
   "outputs": [],
   "source": [
    "model.compile(optimizer = 'adam',\n",
    "             loss = 'MSE',\n",
    "             metrics=['accuracy'])"
   ]
  },
  {
   "cell_type": "code",
   "execution_count": 92,
   "metadata": {
    "scrolled": true
   },
   "outputs": [
    {
     "name": "stdout",
     "output_type": "stream",
     "text": [
      "Epoch 1/200\n",
      "34/34 [==============================] - 0s 3ms/step - loss: 1593960.8750 - accuracy: 0.8905 - val_loss: 4127.2876 - val_accuracy: 0.9935\n",
      "Epoch 2/200\n",
      "34/34 [==============================] - 0s 1ms/step - loss: 1007275.3125 - accuracy: 0.9928 - val_loss: 4376.5737 - val_accuracy: 0.9935\n",
      "Epoch 3/200\n",
      "34/34 [==============================] - 0s 1ms/step - loss: 574067.7500 - accuracy: 0.9928 - val_loss: 5293.6865 - val_accuracy: 0.9935\n",
      "Epoch 4/200\n",
      "34/34 [==============================] - 0s 1ms/step - loss: 552064.1250 - accuracy: 0.9928 - val_loss: 4789.9648 - val_accuracy: 0.9935\n",
      "Epoch 5/200\n",
      "34/34 [==============================] - 0s 1ms/step - loss: 550001.5000 - accuracy: 0.9928 - val_loss: 4756.8794 - val_accuracy: 0.9935\n",
      "Epoch 6/200\n",
      "34/34 [==============================] - 0s 1ms/step - loss: 548254.1875 - accuracy: 0.9928 - val_loss: 4695.7510 - val_accuracy: 0.9935\n",
      "Epoch 7/200\n",
      "34/34 [==============================] - 0s 1ms/step - loss: 546452.6250 - accuracy: 0.9928 - val_loss: 4519.9526 - val_accuracy: 0.9935\n",
      "Epoch 8/200\n",
      "34/34 [==============================] - 0s 1ms/step - loss: 543676.5625 - accuracy: 0.9928 - val_loss: 3957.3333 - val_accuracy: 0.9935\n",
      "Epoch 9/200\n",
      "34/34 [==============================] - 0s 1ms/step - loss: 541449.3750 - accuracy: 0.9928 - val_loss: 3447.5417 - val_accuracy: 0.9935\n",
      "Epoch 10/200\n",
      "34/34 [==============================] - 0s 1ms/step - loss: 538851.3125 - accuracy: 0.9928 - val_loss: 3446.8208 - val_accuracy: 0.9935\n",
      "Epoch 11/200\n",
      "34/34 [==============================] - 0s 1ms/step - loss: 535728.9375 - accuracy: 0.9928 - val_loss: 3568.4976 - val_accuracy: 0.9935\n",
      "Epoch 12/200\n",
      "34/34 [==============================] - 0s 1ms/step - loss: 532983.2500 - accuracy: 0.9928 - val_loss: 3092.8196 - val_accuracy: 0.9935\n",
      "Epoch 13/200\n",
      "34/34 [==============================] - 0s 1ms/step - loss: 529173.3750 - accuracy: 0.9928 - val_loss: 3090.2932 - val_accuracy: 0.9935\n",
      "Epoch 14/200\n",
      "34/34 [==============================] - 0s 1ms/step - loss: 526262.9375 - accuracy: 0.9928 - val_loss: 3198.2986 - val_accuracy: 0.9935\n",
      "Epoch 15/200\n",
      "34/34 [==============================] - 0s 1ms/step - loss: 522195.9062 - accuracy: 0.9928 - val_loss: 3007.2898 - val_accuracy: 0.9935\n",
      "Epoch 16/200\n",
      "34/34 [==============================] - 0s 1ms/step - loss: 516932.1875 - accuracy: 0.9928 - val_loss: 3180.1582 - val_accuracy: 0.9935\n",
      "Epoch 17/200\n",
      "34/34 [==============================] - 0s 1ms/step - loss: 512526.1562 - accuracy: 0.9928 - val_loss: 3199.6560 - val_accuracy: 0.9935\n",
      "Epoch 18/200\n",
      "34/34 [==============================] - 0s 1ms/step - loss: 507259.3438 - accuracy: 0.9928 - val_loss: 2929.1194 - val_accuracy: 0.9935\n",
      "Epoch 19/200\n",
      "34/34 [==============================] - 0s 1ms/step - loss: 501763.6875 - accuracy: 0.9928 - val_loss: 3415.7004 - val_accuracy: 0.9935\n",
      "Epoch 20/200\n",
      "34/34 [==============================] - 0s 1ms/step - loss: 496631.0938 - accuracy: 0.9928 - val_loss: 3126.0757 - val_accuracy: 0.9935\n",
      "Epoch 21/200\n",
      "34/34 [==============================] - 0s 1ms/step - loss: 488980.9688 - accuracy: 0.9928 - val_loss: 2956.7805 - val_accuracy: 0.9935\n",
      "Epoch 22/200\n",
      "34/34 [==============================] - 0s 1ms/step - loss: 482762.8125 - accuracy: 0.9928 - val_loss: 3052.1450 - val_accuracy: 0.9935\n",
      "Epoch 23/200\n",
      "34/34 [==============================] - 0s 1ms/step - loss: 474106.1250 - accuracy: 0.9928 - val_loss: 2891.4966 - val_accuracy: 0.9935\n",
      "Epoch 24/200\n",
      "34/34 [==============================] - 0s 1ms/step - loss: 466218.4375 - accuracy: 0.9928 - val_loss: 3219.2100 - val_accuracy: 0.9935\n",
      "Epoch 25/200\n",
      "34/34 [==============================] - 0s 1ms/step - loss: 457730.3438 - accuracy: 0.9928 - val_loss: 2937.0852 - val_accuracy: 0.9935\n",
      "Epoch 26/200\n",
      "34/34 [==============================] - 0s 1ms/step - loss: 448739.2812 - accuracy: 0.9928 - val_loss: 3169.5828 - val_accuracy: 0.9935\n",
      "Epoch 27/200\n",
      "34/34 [==============================] - 0s 1ms/step - loss: 439551.7812 - accuracy: 0.9928 - val_loss: 3046.2771 - val_accuracy: 0.9935\n",
      "Epoch 28/200\n",
      "34/34 [==============================] - 0s 1ms/step - loss: 432562.5938 - accuracy: 0.9928 - val_loss: 2998.1255 - val_accuracy: 0.9935\n",
      "Epoch 29/200\n",
      "34/34 [==============================] - 0s 1ms/step - loss: 422020.5000 - accuracy: 0.9928 - val_loss: 3198.3411 - val_accuracy: 0.9935\n",
      "Epoch 30/200\n",
      "34/34 [==============================] - 0s 1ms/step - loss: 414292.1875 - accuracy: 0.9928 - val_loss: 3088.6536 - val_accuracy: 0.9935\n",
      "Epoch 31/200\n",
      "34/34 [==============================] - 0s 1ms/step - loss: 406610.4688 - accuracy: 0.9928 - val_loss: 3244.0591 - val_accuracy: 0.9935\n",
      "Epoch 32/200\n",
      "34/34 [==============================] - 0s 1ms/step - loss: 400161.3125 - accuracy: 0.9928 - val_loss: 3235.8022 - val_accuracy: 0.9935\n",
      "Epoch 33/200\n",
      "34/34 [==============================] - 0s 1ms/step - loss: 393864.7812 - accuracy: 0.9928 - val_loss: 3066.3699 - val_accuracy: 0.9935\n",
      "Epoch 34/200\n",
      "34/34 [==============================] - 0s 1ms/step - loss: 388629.3750 - accuracy: 0.9928 - val_loss: 3119.1836 - val_accuracy: 0.9935\n",
      "Epoch 35/200\n",
      "34/34 [==============================] - 0s 1ms/step - loss: 384384.4062 - accuracy: 0.9902 - val_loss: 3436.5730 - val_accuracy: 0.9935\n",
      "Epoch 36/200\n",
      "34/34 [==============================] - 0s 1ms/step - loss: 382945.4062 - accuracy: 0.9928 - val_loss: 3068.4851 - val_accuracy: 0.9935\n",
      "Epoch 37/200\n",
      "34/34 [==============================] - 0s 1ms/step - loss: 377325.5625 - accuracy: 0.9928 - val_loss: 3072.2708 - val_accuracy: 0.9935\n",
      "Epoch 38/200\n",
      "34/34 [==============================] - 0s 1ms/step - loss: 375696.0000 - accuracy: 0.9928 - val_loss: 2932.1101 - val_accuracy: 0.9935\n",
      "Epoch 39/200\n",
      "34/34 [==============================] - 0s 1ms/step - loss: 373151.6875 - accuracy: 0.9928 - val_loss: 3049.3220 - val_accuracy: 0.9935\n",
      "Epoch 40/200\n",
      "34/34 [==============================] - 0s 1ms/step - loss: 370987.7188 - accuracy: 0.9928 - val_loss: 3060.5117 - val_accuracy: 0.9935\n",
      "Epoch 41/200\n",
      "34/34 [==============================] - 0s 1ms/step - loss: 368360.0000 - accuracy: 0.9928 - val_loss: 2928.0906 - val_accuracy: 0.9935\n",
      "Epoch 42/200\n",
      "34/34 [==============================] - 0s 1ms/step - loss: 366687.0000 - accuracy: 0.9928 - val_loss: 3081.7112 - val_accuracy: 0.9935\n",
      "Epoch 43/200\n",
      "34/34 [==============================] - 0s 1ms/step - loss: 365210.3750 - accuracy: 0.9897 - val_loss: 3193.9854 - val_accuracy: 0.9935\n",
      "Epoch 44/200\n",
      "34/34 [==============================] - 0s 1ms/step - loss: 364073.1562 - accuracy: 0.9904 - val_loss: 3321.1001 - val_accuracy: 0.7219\n",
      "Epoch 45/200\n",
      "34/34 [==============================] - 0s 1ms/step - loss: 362734.4062 - accuracy: 0.9915 - val_loss: 2978.9902 - val_accuracy: 0.9935\n",
      "Epoch 46/200\n",
      "34/34 [==============================] - 0s 1ms/step - loss: 361245.5312 - accuracy: 0.9906 - val_loss: 3091.3674 - val_accuracy: 0.9935\n",
      "Epoch 47/200\n",
      "34/34 [==============================] - 0s 1ms/step - loss: 360552.9688 - accuracy: 0.9928 - val_loss: 2921.0603 - val_accuracy: 0.9935\n",
      "Epoch 48/200\n",
      "34/34 [==============================] - 0s 1ms/step - loss: 358900.6875 - accuracy: 0.9901 - val_loss: 2907.2532 - val_accuracy: 0.9935\n",
      "Epoch 49/200\n",
      "34/34 [==============================] - 0s 1ms/step - loss: 362951.8438 - accuracy: 0.9894 - val_loss: 3124.7249 - val_accuracy: 0.9935\n",
      "Epoch 50/200\n",
      "34/34 [==============================] - 0s 1ms/step - loss: 359638.4375 - accuracy: 0.9928 - val_loss: 3268.7993 - val_accuracy: 0.9935\n",
      "Epoch 51/200\n",
      "34/34 [==============================] - 0s 1ms/step - loss: 358270.4688 - accuracy: 0.9928 - val_loss: 3013.8201 - val_accuracy: 0.9935\n",
      "Epoch 52/200\n",
      "34/34 [==============================] - 0s 1ms/step - loss: 357047.6250 - accuracy: 0.9928 - val_loss: 2971.5610 - val_accuracy: 0.9935\n",
      "Epoch 53/200\n",
      "34/34 [==============================] - 0s 1ms/step - loss: 356212.8750 - accuracy: 0.9928 - val_loss: 3046.1016 - val_accuracy: 0.9935\n",
      "Epoch 54/200\n",
      "34/34 [==============================] - 0s 1ms/step - loss: 356850.5938 - accuracy: 0.9928 - val_loss: 2862.7893 - val_accuracy: 0.9935\n",
      "Epoch 55/200\n"
     ]
    },
    {
     "name": "stdout",
     "output_type": "stream",
     "text": [
      "34/34 [==============================] - 0s 1ms/step - loss: 356777.2500 - accuracy: 0.9928 - val_loss: 3004.1909 - val_accuracy: 0.9935\n",
      "Epoch 56/200\n",
      "34/34 [==============================] - 0s 1ms/step - loss: 355128.5938 - accuracy: 0.9928 - val_loss: 3039.7910 - val_accuracy: 0.9935\n",
      "Epoch 57/200\n",
      "34/34 [==============================] - 0s 1ms/step - loss: 358910.5625 - accuracy: 0.9928 - val_loss: 2985.9875 - val_accuracy: 0.9935\n",
      "Epoch 58/200\n",
      "34/34 [==============================] - 0s 1ms/step - loss: 355296.4062 - accuracy: 0.9928 - val_loss: 2782.8169 - val_accuracy: 0.9935\n",
      "Epoch 59/200\n",
      "34/34 [==============================] - 0s 1ms/step - loss: 355406.9375 - accuracy: 0.9928 - val_loss: 3160.8215 - val_accuracy: 0.9935\n",
      "Epoch 60/200\n",
      "34/34 [==============================] - 0s 1ms/step - loss: 354867.2500 - accuracy: 0.9879 - val_loss: 3217.8311 - val_accuracy: 0.9935\n",
      "Epoch 61/200\n",
      "34/34 [==============================] - 0s 1ms/step - loss: 355260.0938 - accuracy: 0.9928 - val_loss: 3193.5862 - val_accuracy: 0.9935\n",
      "Epoch 62/200\n",
      "34/34 [==============================] - 0s 1ms/step - loss: 355290.8125 - accuracy: 0.9928 - val_loss: 2852.2959 - val_accuracy: 0.9935\n",
      "Epoch 63/200\n",
      "34/34 [==============================] - 0s 1ms/step - loss: 357308.1250 - accuracy: 0.9928 - val_loss: 2911.0217 - val_accuracy: 0.9935\n",
      "Epoch 64/200\n",
      "34/34 [==============================] - 0s 1ms/step - loss: 353958.3438 - accuracy: 0.9928 - val_loss: 2960.7559 - val_accuracy: 0.9935\n",
      "Epoch 65/200\n",
      "34/34 [==============================] - 0s 1ms/step - loss: 353933.8438 - accuracy: 0.9928 - val_loss: 2993.6682 - val_accuracy: 0.9935\n",
      "Epoch 66/200\n",
      "34/34 [==============================] - 0s 1ms/step - loss: 354212.9375 - accuracy: 0.9928 - val_loss: 3076.5813 - val_accuracy: 0.9935\n",
      "Epoch 67/200\n",
      "34/34 [==============================] - 0s 1ms/step - loss: 353750.1875 - accuracy: 0.9928 - val_loss: 2871.5125 - val_accuracy: 0.9935\n",
      "Epoch 68/200\n",
      "34/34 [==============================] - 0s 1ms/step - loss: 355122.1250 - accuracy: 0.9928 - val_loss: 2827.8984 - val_accuracy: 0.9935\n",
      "Epoch 69/200\n",
      "34/34 [==============================] - 0s 1ms/step - loss: 356804.2500 - accuracy: 0.9909 - val_loss: 3105.7839 - val_accuracy: 0.9935\n",
      "Epoch 70/200\n",
      "34/34 [==============================] - 0s 1ms/step - loss: 355417.3125 - accuracy: 0.9928 - val_loss: 3045.0227 - val_accuracy: 0.9935\n",
      "Epoch 71/200\n",
      "34/34 [==============================] - 0s 1ms/step - loss: 354166.9062 - accuracy: 0.9928 - val_loss: 3222.7156 - val_accuracy: 0.9935\n",
      "Epoch 72/200\n",
      "34/34 [==============================] - 0s 1ms/step - loss: 354239.8438 - accuracy: 0.9928 - val_loss: 3082.8765 - val_accuracy: 0.9935\n",
      "Epoch 73/200\n",
      "34/34 [==============================] - 0s 1ms/step - loss: 354648.0312 - accuracy: 0.9928 - val_loss: 2996.6006 - val_accuracy: 0.9935\n",
      "Epoch 74/200\n",
      "34/34 [==============================] - 0s 1ms/step - loss: 353059.5312 - accuracy: 0.9928 - val_loss: 2943.1526 - val_accuracy: 0.9935\n",
      "Epoch 75/200\n",
      "34/34 [==============================] - 0s 1ms/step - loss: 353985.8438 - accuracy: 0.9928 - val_loss: 3070.6704 - val_accuracy: 0.9935\n",
      "Epoch 76/200\n",
      "34/34 [==============================] - 0s 1ms/step - loss: 355101.5938 - accuracy: 0.9928 - val_loss: 3346.8459 - val_accuracy: 0.9935\n",
      "Epoch 77/200\n",
      "34/34 [==============================] - 0s 1ms/step - loss: 354306.7188 - accuracy: 0.9928 - val_loss: 3308.8325 - val_accuracy: 0.9935\n",
      "Epoch 78/200\n",
      "34/34 [==============================] - 0s 1ms/step - loss: 353832.4375 - accuracy: 0.9928 - val_loss: 2902.1921 - val_accuracy: 0.9935\n",
      "Epoch 79/200\n",
      "34/34 [==============================] - 0s 1ms/step - loss: 354550.3750 - accuracy: 0.9928 - val_loss: 3206.8271 - val_accuracy: 0.9935\n",
      "Epoch 80/200\n",
      "34/34 [==============================] - 0s 1ms/step - loss: 358228.4062 - accuracy: 0.9928 - val_loss: 3120.8511 - val_accuracy: 0.9935\n",
      "Epoch 81/200\n",
      "34/34 [==============================] - 0s 1ms/step - loss: 353648.3438 - accuracy: 0.9928 - val_loss: 3202.1951 - val_accuracy: 0.9935\n",
      "Epoch 82/200\n",
      "34/34 [==============================] - 0s 1ms/step - loss: 355584.0312 - accuracy: 0.9928 - val_loss: 2893.4363 - val_accuracy: 0.9935\n",
      "Epoch 83/200\n",
      "34/34 [==============================] - 0s 1ms/step - loss: 353715.2812 - accuracy: 0.9928 - val_loss: 3153.9104 - val_accuracy: 0.9935\n",
      "Epoch 84/200\n",
      "34/34 [==============================] - 0s 1ms/step - loss: 353090.3750 - accuracy: 0.9928 - val_loss: 3238.0649 - val_accuracy: 0.9935\n",
      "Epoch 85/200\n",
      "34/34 [==============================] - 0s 1ms/step - loss: 352982.3438 - accuracy: 0.9928 - val_loss: 3002.0854 - val_accuracy: 0.9935\n",
      "Epoch 86/200\n",
      "34/34 [==============================] - 0s 1ms/step - loss: 353194.2500 - accuracy: 0.9928 - val_loss: 3002.3796 - val_accuracy: 0.9935\n",
      "Epoch 87/200\n",
      "34/34 [==============================] - 0s 1ms/step - loss: 353765.8125 - accuracy: 0.9928 - val_loss: 3020.5066 - val_accuracy: 0.9935\n",
      "Epoch 88/200\n",
      "34/34 [==============================] - 0s 1ms/step - loss: 357150.8438 - accuracy: 0.9928 - val_loss: 3106.3337 - val_accuracy: 0.9935\n",
      "Epoch 89/200\n",
      "34/34 [==============================] - 0s 1ms/step - loss: 354733.9688 - accuracy: 0.9928 - val_loss: 3052.2026 - val_accuracy: 0.9935\n",
      "Epoch 90/200\n",
      "34/34 [==============================] - 0s 1ms/step - loss: 356872.2188 - accuracy: 0.9928 - val_loss: 2982.5210 - val_accuracy: 0.9935\n",
      "Epoch 91/200\n",
      "34/34 [==============================] - 0s 1ms/step - loss: 354381.9375 - accuracy: 0.9928 - val_loss: 3199.3950 - val_accuracy: 0.9935\n",
      "Epoch 92/200\n",
      "34/34 [==============================] - 0s 1ms/step - loss: 353390.9062 - accuracy: 0.9928 - val_loss: 3301.9639 - val_accuracy: 0.9935\n",
      "Epoch 93/200\n",
      "34/34 [==============================] - 0s 1ms/step - loss: 354168.4375 - accuracy: 0.9928 - val_loss: 3201.0935 - val_accuracy: 0.9935\n",
      "Epoch 94/200\n",
      "34/34 [==============================] - 0s 1ms/step - loss: 353445.9062 - accuracy: 0.9928 - val_loss: 2927.2710 - val_accuracy: 0.9935\n",
      "Epoch 95/200\n",
      "34/34 [==============================] - 0s 1ms/step - loss: 353891.9375 - accuracy: 0.9928 - val_loss: 3131.9629 - val_accuracy: 0.9935\n",
      "Epoch 96/200\n",
      "34/34 [==============================] - 0s 1ms/step - loss: 358470.7500 - accuracy: 0.9928 - val_loss: 2941.1570 - val_accuracy: 0.9935\n",
      "Epoch 97/200\n",
      "34/34 [==============================] - 0s 1ms/step - loss: 353515.2500 - accuracy: 0.9928 - val_loss: 3081.9700 - val_accuracy: 0.9935\n",
      "Epoch 98/200\n",
      "34/34 [==============================] - 0s 1ms/step - loss: 353943.1875 - accuracy: 0.9928 - val_loss: 2939.0327 - val_accuracy: 0.9935\n",
      "Epoch 99/200\n",
      "34/34 [==============================] - 0s 1ms/step - loss: 353668.0312 - accuracy: 0.9928 - val_loss: 2979.8433 - val_accuracy: 0.9935\n",
      "Epoch 100/200\n",
      "34/34 [==============================] - 0s 1ms/step - loss: 354477.9688 - accuracy: 0.9928 - val_loss: 3033.2334 - val_accuracy: 0.9935\n",
      "Epoch 101/200\n",
      "34/34 [==============================] - 0s 1ms/step - loss: 352910.1875 - accuracy: 0.9928 - val_loss: 3293.7446 - val_accuracy: 0.9935\n",
      "Epoch 102/200\n",
      "34/34 [==============================] - 0s 1ms/step - loss: 352728.8750 - accuracy: 0.9928 - val_loss: 3097.8794 - val_accuracy: 0.9935\n",
      "Epoch 103/200\n",
      "34/34 [==============================] - 0s 1ms/step - loss: 353414.8125 - accuracy: 0.9928 - val_loss: 3535.9041 - val_accuracy: 0.9935\n",
      "Epoch 104/200\n",
      "34/34 [==============================] - 0s 1ms/step - loss: 354429.7188 - accuracy: 0.9928 - val_loss: 2939.2595 - val_accuracy: 0.9935\n",
      "Epoch 105/200\n",
      "34/34 [==============================] - 0s 1ms/step - loss: 354763.4375 - accuracy: 0.9928 - val_loss: 3094.8801 - val_accuracy: 0.9935\n",
      "Epoch 106/200\n",
      "34/34 [==============================] - 0s 1ms/step - loss: 354956.4375 - accuracy: 0.9928 - val_loss: 3164.3594 - val_accuracy: 0.9935\n",
      "Epoch 107/200\n",
      "34/34 [==============================] - 0s 1ms/step - loss: 354918.5625 - accuracy: 0.9928 - val_loss: 3100.9634 - val_accuracy: 0.9935\n",
      "Epoch 108/200\n",
      "34/34 [==============================] - 0s 1ms/step - loss: 352618.7812 - accuracy: 0.9928 - val_loss: 3425.5110 - val_accuracy: 0.9935\n",
      "Epoch 109/200\n"
     ]
    },
    {
     "name": "stdout",
     "output_type": "stream",
     "text": [
      "34/34 [==============================] - 0s 1ms/step - loss: 353569.0000 - accuracy: 0.9928 - val_loss: 3321.9678 - val_accuracy: 0.9935\n",
      "Epoch 110/200\n",
      "34/34 [==============================] - 0s 1ms/step - loss: 354783.5312 - accuracy: 0.9927 - val_loss: 3260.1606 - val_accuracy: 0.9935\n",
      "Epoch 111/200\n",
      "34/34 [==============================] - 0s 1ms/step - loss: 352688.8750 - accuracy: 0.9928 - val_loss: 3074.1377 - val_accuracy: 0.9935\n",
      "Epoch 112/200\n",
      "34/34 [==============================] - 0s 1ms/step - loss: 353209.0938 - accuracy: 0.9928 - val_loss: 3124.3401 - val_accuracy: 0.9935\n",
      "Epoch 113/200\n",
      "34/34 [==============================] - 0s 1ms/step - loss: 352482.0312 - accuracy: 0.9928 - val_loss: 3001.6296 - val_accuracy: 0.9935\n",
      "Epoch 114/200\n",
      "34/34 [==============================] - 0s 1ms/step - loss: 353792.3125 - accuracy: 0.9928 - val_loss: 3380.3047 - val_accuracy: 0.9935\n",
      "Epoch 115/200\n",
      "34/34 [==============================] - 0s 1ms/step - loss: 353249.6875 - accuracy: 0.9928 - val_loss: 3058.1133 - val_accuracy: 0.9935\n",
      "Epoch 116/200\n",
      "34/34 [==============================] - 0s 1ms/step - loss: 353318.0625 - accuracy: 0.9928 - val_loss: 3409.8643 - val_accuracy: 0.9935\n",
      "Epoch 117/200\n",
      "34/34 [==============================] - 0s 1ms/step - loss: 353327.6875 - accuracy: 0.9928 - val_loss: 3181.5308 - val_accuracy: 0.9935\n",
      "Epoch 118/200\n",
      "34/34 [==============================] - 0s 1ms/step - loss: 353054.5312 - accuracy: 0.9928 - val_loss: 3232.4258 - val_accuracy: 0.9935\n",
      "Epoch 119/200\n",
      "34/34 [==============================] - 0s 1ms/step - loss: 353503.2812 - accuracy: 0.9928 - val_loss: 3196.2957 - val_accuracy: 0.9935\n",
      "Epoch 120/200\n",
      "34/34 [==============================] - 0s 1ms/step - loss: 352398.1562 - accuracy: 0.9928 - val_loss: 3067.3179 - val_accuracy: 0.9935\n",
      "Epoch 121/200\n",
      "34/34 [==============================] - 0s 1ms/step - loss: 353089.6250 - accuracy: 0.9928 - val_loss: 3224.3665 - val_accuracy: 0.9935\n",
      "Epoch 122/200\n",
      "34/34 [==============================] - 0s 1ms/step - loss: 354691.8438 - accuracy: 0.9928 - val_loss: 3287.9543 - val_accuracy: 0.9935\n",
      "Epoch 123/200\n",
      "34/34 [==============================] - 0s 1ms/step - loss: 353566.3438 - accuracy: 0.9928 - val_loss: 3133.0779 - val_accuracy: 0.9935\n",
      "Epoch 124/200\n",
      "34/34 [==============================] - 0s 1ms/step - loss: 355130.1875 - accuracy: 0.9928 - val_loss: 3550.2808 - val_accuracy: 0.9935\n",
      "Epoch 125/200\n",
      "34/34 [==============================] - 0s 1ms/step - loss: 356868.6875 - accuracy: 0.9927 - val_loss: 3475.9927 - val_accuracy: 0.9935\n",
      "Epoch 126/200\n",
      "34/34 [==============================] - 0s 1ms/step - loss: 354704.0000 - accuracy: 0.9928 - val_loss: 3280.7593 - val_accuracy: 0.9935\n",
      "Epoch 127/200\n",
      "34/34 [==============================] - 0s 1ms/step - loss: 353728.9688 - accuracy: 0.9928 - val_loss: 3425.3467 - val_accuracy: 0.9935\n",
      "Epoch 128/200\n",
      "34/34 [==============================] - 0s 1ms/step - loss: 353976.9688 - accuracy: 0.9928 - val_loss: 3636.6626 - val_accuracy: 0.9935\n",
      "Epoch 129/200\n",
      "34/34 [==============================] - 0s 1ms/step - loss: 353034.7812 - accuracy: 0.9928 - val_loss: 3405.9194 - val_accuracy: 0.9935\n",
      "Epoch 130/200\n",
      "34/34 [==============================] - 0s 1ms/step - loss: 355123.4375 - accuracy: 0.9928 - val_loss: 3188.5713 - val_accuracy: 0.9935\n",
      "Epoch 131/200\n",
      "34/34 [==============================] - 0s 1ms/step - loss: 354136.8750 - accuracy: 0.9928 - val_loss: 3173.2976 - val_accuracy: 0.9935\n",
      "Epoch 132/200\n",
      "34/34 [==============================] - 0s 1ms/step - loss: 356574.4062 - accuracy: 0.9928 - val_loss: 3287.2134 - val_accuracy: 0.9935\n",
      "Epoch 133/200\n",
      "34/34 [==============================] - 0s 1ms/step - loss: 355211.9688 - accuracy: 0.9928 - val_loss: 3357.3655 - val_accuracy: 0.9935\n",
      "Epoch 134/200\n",
      "34/34 [==============================] - 0s 1ms/step - loss: 352997.4375 - accuracy: 0.9928 - val_loss: 3252.8215 - val_accuracy: 0.9935\n",
      "Epoch 135/200\n",
      "34/34 [==============================] - 0s 1ms/step - loss: 353714.4062 - accuracy: 0.9928 - val_loss: 3210.5745 - val_accuracy: 0.9935\n",
      "Epoch 136/200\n",
      "34/34 [==============================] - 0s 1ms/step - loss: 353383.4062 - accuracy: 0.9927 - val_loss: 3435.8396 - val_accuracy: 0.9935\n",
      "Epoch 137/200\n",
      "34/34 [==============================] - 0s 1ms/step - loss: 353974.8438 - accuracy: 0.9928 - val_loss: 3310.5071 - val_accuracy: 0.9935\n",
      "Epoch 138/200\n",
      "34/34 [==============================] - 0s 1ms/step - loss: 353299.3750 - accuracy: 0.9928 - val_loss: 3280.0115 - val_accuracy: 0.9935\n",
      "Epoch 139/200\n",
      "34/34 [==============================] - 0s 1ms/step - loss: 354038.4688 - accuracy: 0.9928 - val_loss: 3350.9727 - val_accuracy: 0.9935\n",
      "Epoch 140/200\n",
      "34/34 [==============================] - 0s 1ms/step - loss: 352247.5000 - accuracy: 0.9928 - val_loss: 3494.8623 - val_accuracy: 0.9935\n",
      "Epoch 141/200\n",
      "34/34 [==============================] - 0s 1ms/step - loss: 354789.2500 - accuracy: 0.9928 - val_loss: 3327.0151 - val_accuracy: 0.9935\n",
      "Epoch 142/200\n",
      "34/34 [==============================] - 0s 1ms/step - loss: 354429.5312 - accuracy: 0.9928 - val_loss: 3077.0144 - val_accuracy: 0.9935\n",
      "Epoch 143/200\n",
      "34/34 [==============================] - 0s 1ms/step - loss: 355130.5312 - accuracy: 0.9928 - val_loss: 3363.6848 - val_accuracy: 0.9935\n",
      "Epoch 144/200\n",
      "34/34 [==============================] - 0s 1ms/step - loss: 353498.9375 - accuracy: 0.9927 - val_loss: 3463.0952 - val_accuracy: 0.9935\n",
      "Epoch 145/200\n",
      "34/34 [==============================] - 0s 1ms/step - loss: 353558.0625 - accuracy: 0.9928 - val_loss: 3465.9492 - val_accuracy: 0.9935\n",
      "Epoch 146/200\n",
      "34/34 [==============================] - 0s 1ms/step - loss: 353287.6875 - accuracy: 0.9928 - val_loss: 3416.9294 - val_accuracy: 0.9935\n",
      "Epoch 147/200\n",
      "34/34 [==============================] - 0s 1ms/step - loss: 352975.6250 - accuracy: 0.9928 - val_loss: 3215.3291 - val_accuracy: 0.9935\n",
      "Epoch 148/200\n",
      "34/34 [==============================] - 0s 1ms/step - loss: 354818.7500 - accuracy: 0.9928 - val_loss: 3375.9766 - val_accuracy: 0.9935\n",
      "Epoch 149/200\n",
      "34/34 [==============================] - 0s 1ms/step - loss: 352689.2188 - accuracy: 0.9928 - val_loss: 3390.0942 - val_accuracy: 0.9935\n",
      "Epoch 150/200\n",
      "34/34 [==============================] - 0s 1ms/step - loss: 355726.1250 - accuracy: 0.9928 - val_loss: 3247.0710 - val_accuracy: 0.9935\n",
      "Epoch 151/200\n",
      "34/34 [==============================] - 0s 1ms/step - loss: 353786.0938 - accuracy: 0.9928 - val_loss: 3215.9124 - val_accuracy: 0.9935\n",
      "Epoch 152/200\n",
      "34/34 [==============================] - 0s 1ms/step - loss: 354480.3438 - accuracy: 0.9928 - val_loss: 3475.0139 - val_accuracy: 0.9935\n",
      "Epoch 153/200\n",
      "34/34 [==============================] - 0s 1ms/step - loss: 355691.0312 - accuracy: 0.9928 - val_loss: 3295.2314 - val_accuracy: 0.9935\n",
      "Epoch 154/200\n",
      "34/34 [==============================] - 0s 1ms/step - loss: 352852.4062 - accuracy: 0.9928 - val_loss: 3186.0803 - val_accuracy: 0.9935\n",
      "Epoch 155/200\n",
      "34/34 [==============================] - 0s 1ms/step - loss: 352715.1250 - accuracy: 0.9928 - val_loss: 3116.1558 - val_accuracy: 0.9935\n",
      "Epoch 156/200\n",
      "34/34 [==============================] - 0s 1ms/step - loss: 352613.8438 - accuracy: 0.9928 - val_loss: 3221.3120 - val_accuracy: 0.9935\n",
      "Epoch 157/200\n",
      "34/34 [==============================] - 0s 1ms/step - loss: 355485.0000 - accuracy: 0.9928 - val_loss: 3194.0486 - val_accuracy: 0.9935\n",
      "Epoch 158/200\n",
      "34/34 [==============================] - 0s 1ms/step - loss: 353082.3125 - accuracy: 0.9928 - val_loss: 3282.9016 - val_accuracy: 0.9935\n",
      "Epoch 159/200\n",
      "34/34 [==============================] - 0s 1ms/step - loss: 353195.9062 - accuracy: 0.9928 - val_loss: 3289.8501 - val_accuracy: 0.9935\n",
      "Epoch 160/200\n",
      "34/34 [==============================] - 0s 1ms/step - loss: 355289.7812 - accuracy: 0.9927 - val_loss: 3352.4761 - val_accuracy: 0.9935\n",
      "Epoch 161/200\n",
      "34/34 [==============================] - 0s 1ms/step - loss: 353001.8438 - accuracy: 0.9928 - val_loss: 3434.8337 - val_accuracy: 0.9935\n",
      "Epoch 162/200\n",
      "34/34 [==============================] - 0s 1ms/step - loss: 353852.4688 - accuracy: 0.9928 - val_loss: 2990.2163 - val_accuracy: 0.9935\n",
      "Epoch 163/200\n"
     ]
    },
    {
     "name": "stdout",
     "output_type": "stream",
     "text": [
      "34/34 [==============================] - 0s 1ms/step - loss: 353469.5625 - accuracy: 0.9928 - val_loss: 3014.2393 - val_accuracy: 0.9935\n",
      "Epoch 164/200\n",
      "34/34 [==============================] - 0s 1ms/step - loss: 353766.7500 - accuracy: 0.9928 - val_loss: 3215.4280 - val_accuracy: 0.9935\n",
      "Epoch 165/200\n",
      "34/34 [==============================] - 0s 1ms/step - loss: 352650.1875 - accuracy: 0.9928 - val_loss: 3169.5608 - val_accuracy: 0.9935\n",
      "Epoch 166/200\n",
      "34/34 [==============================] - 0s 1ms/step - loss: 353221.1875 - accuracy: 0.9928 - val_loss: 3649.9993 - val_accuracy: 0.9935\n",
      "Epoch 167/200\n",
      "34/34 [==============================] - 0s 1ms/step - loss: 352621.9062 - accuracy: 0.9928 - val_loss: 3548.9932 - val_accuracy: 0.9935\n",
      "Epoch 168/200\n",
      "34/34 [==============================] - 0s 1ms/step - loss: 352746.0938 - accuracy: 0.9928 - val_loss: 3431.4456 - val_accuracy: 0.9935\n",
      "Epoch 169/200\n",
      "34/34 [==============================] - 0s 1ms/step - loss: 352518.3125 - accuracy: 0.9928 - val_loss: 3357.7019 - val_accuracy: 0.9935\n",
      "Epoch 170/200\n",
      "34/34 [==============================] - 0s 1ms/step - loss: 352650.9062 - accuracy: 0.9928 - val_loss: 3240.3145 - val_accuracy: 0.9935\n",
      "Epoch 171/200\n",
      "34/34 [==============================] - 0s 1ms/step - loss: 355148.7500 - accuracy: 0.9928 - val_loss: 3426.4082 - val_accuracy: 0.9935\n",
      "Epoch 172/200\n",
      "34/34 [==============================] - 0s 1ms/step - loss: 353481.0938 - accuracy: 0.9928 - val_loss: 3095.0183 - val_accuracy: 0.9935\n",
      "Epoch 173/200\n",
      "34/34 [==============================] - 0s 1ms/step - loss: 353135.9375 - accuracy: 0.9928 - val_loss: 3599.3987 - val_accuracy: 0.9935\n",
      "Epoch 174/200\n",
      "34/34 [==============================] - 0s 1ms/step - loss: 353661.2500 - accuracy: 0.9928 - val_loss: 3357.6260 - val_accuracy: 0.9935\n",
      "Epoch 175/200\n",
      "34/34 [==============================] - 0s 1ms/step - loss: 352753.9062 - accuracy: 0.9928 - val_loss: 3349.8467 - val_accuracy: 0.9935\n",
      "Epoch 176/200\n",
      "34/34 [==============================] - 0s 1ms/step - loss: 354369.0625 - accuracy: 0.9928 - val_loss: 3358.5466 - val_accuracy: 0.9935\n",
      "Epoch 177/200\n",
      "34/34 [==============================] - 0s 1ms/step - loss: 352398.2500 - accuracy: 0.9928 - val_loss: 3298.0027 - val_accuracy: 0.9935\n",
      "Epoch 178/200\n",
      "34/34 [==============================] - 0s 1ms/step - loss: 353178.5000 - accuracy: 0.9928 - val_loss: 3648.2104 - val_accuracy: 0.9935\n",
      "Epoch 179/200\n",
      "34/34 [==============================] - 0s 1ms/step - loss: 352734.9375 - accuracy: 0.9928 - val_loss: 3488.0837 - val_accuracy: 0.9935\n",
      "Epoch 180/200\n",
      "34/34 [==============================] - 0s 1ms/step - loss: 353829.4062 - accuracy: 0.9928 - val_loss: 3278.0232 - val_accuracy: 0.9935\n",
      "Epoch 181/200\n",
      "34/34 [==============================] - 0s 1ms/step - loss: 353674.0625 - accuracy: 0.9928 - val_loss: 3373.6150 - val_accuracy: 0.9935\n",
      "Epoch 182/200\n",
      "34/34 [==============================] - 0s 1ms/step - loss: 353115.9375 - accuracy: 0.9927 - val_loss: 3621.8276 - val_accuracy: 0.9935\n",
      "Epoch 183/200\n",
      "34/34 [==============================] - 0s 1ms/step - loss: 352341.8125 - accuracy: 0.9928 - val_loss: 3642.1860 - val_accuracy: 0.9935\n",
      "Epoch 184/200\n",
      "34/34 [==============================] - 0s 1ms/step - loss: 352622.1875 - accuracy: 0.9928 - val_loss: 3401.6194 - val_accuracy: 0.9935\n",
      "Epoch 185/200\n",
      "34/34 [==============================] - 0s 1ms/step - loss: 353753.6250 - accuracy: 0.9928 - val_loss: 3293.7100 - val_accuracy: 0.9935\n",
      "Epoch 186/200\n",
      "34/34 [==============================] - 0s 1ms/step - loss: 353960.5312 - accuracy: 0.9928 - val_loss: 3269.6628 - val_accuracy: 0.9935\n",
      "Epoch 187/200\n",
      "34/34 [==============================] - 0s 1ms/step - loss: 352726.4375 - accuracy: 0.9927 - val_loss: 3199.4075 - val_accuracy: 0.9935\n",
      "Epoch 188/200\n",
      "34/34 [==============================] - 0s 1ms/step - loss: 353966.2188 - accuracy: 0.9928 - val_loss: 3326.4883 - val_accuracy: 0.9935\n",
      "Epoch 189/200\n",
      "34/34 [==============================] - 0s 1ms/step - loss: 352259.1562 - accuracy: 0.9927 - val_loss: 3178.8945 - val_accuracy: 0.9935\n",
      "Epoch 190/200\n",
      "34/34 [==============================] - 0s 1ms/step - loss: 352288.5938 - accuracy: 0.9928 - val_loss: 3491.8704 - val_accuracy: 0.9935\n",
      "Epoch 191/200\n",
      "34/34 [==============================] - 0s 1ms/step - loss: 353100.4375 - accuracy: 0.9928 - val_loss: 3346.6428 - val_accuracy: 0.9935\n",
      "Epoch 192/200\n",
      "34/34 [==============================] - 0s 1ms/step - loss: 352965.9062 - accuracy: 0.9928 - val_loss: 3577.5647 - val_accuracy: 0.9935\n",
      "Epoch 193/200\n",
      "34/34 [==============================] - 0s 1ms/step - loss: 353597.5000 - accuracy: 0.9928 - val_loss: 3369.1643 - val_accuracy: 0.9935\n",
      "Epoch 194/200\n",
      "34/34 [==============================] - 0s 1ms/step - loss: 352826.6875 - accuracy: 0.9927 - val_loss: 3485.4194 - val_accuracy: 0.9935\n",
      "Epoch 195/200\n",
      "34/34 [==============================] - 0s 1ms/step - loss: 352411.7812 - accuracy: 0.9928 - val_loss: 3132.0356 - val_accuracy: 0.9935\n",
      "Epoch 196/200\n",
      "34/34 [==============================] - 0s 1ms/step - loss: 352014.2500 - accuracy: 0.9928 - val_loss: 3083.2786 - val_accuracy: 0.9935\n",
      "Epoch 197/200\n",
      "34/34 [==============================] - 0s 1ms/step - loss: 352468.0938 - accuracy: 0.9928 - val_loss: 3411.3115 - val_accuracy: 0.9935\n",
      "Epoch 198/200\n",
      "34/34 [==============================] - 0s 1ms/step - loss: 354904.3438 - accuracy: 0.9928 - val_loss: 3314.6011 - val_accuracy: 0.9935\n",
      "Epoch 199/200\n",
      "34/34 [==============================] - 0s 1ms/step - loss: 353576.3438 - accuracy: 0.9928 - val_loss: 3094.5845 - val_accuracy: 0.9935\n",
      "Epoch 200/200\n",
      "34/34 [==============================] - 0s 1ms/step - loss: 354632.1562 - accuracy: 0.9928 - val_loss: 3745.8140 - val_accuracy: 0.9935\n"
     ]
    }
   ],
   "source": [
    "history = model.fit(X_train,Y_train,\n",
    "             batch_size = 256, epochs=epochs,\n",
    "             verbose=verbose, validation_split=validation_split)"
   ]
  },
  {
   "cell_type": "code",
   "execution_count": 93,
   "metadata": {
    "scrolled": false
   },
   "outputs": [
    {
     "name": "stdout",
     "output_type": "stream",
     "text": [
      "85/85 [==============================] - 0s 439us/step - loss: 14144.7939 - accuracy: 1.0000\n",
      "Test ACC :  1.0\n"
     ]
    }
   ],
   "source": [
    "test_loss, test_acc = model.evaluate(X_test,Y_test)\n",
    "print('Test ACC : ', test_acc)"
   ]
  },
  {
   "cell_type": "code",
   "execution_count": 94,
   "metadata": {},
   "outputs": [],
   "source": [
    "loss_history =history.history['val_loss']"
   ]
  },
  {
   "cell_type": "code",
   "execution_count": 95,
   "metadata": {
    "scrolled": true
   },
   "outputs": [
    {
     "data": {
      "image/png": "[encoded data removed]",
      "text/plain": [
       "<Figure size 432x288 with 1 Axes>"
      ]
     },
     "metadata": {
      "needs_background": "light"
     },
     "output_type": "display_data"
    }
   ],
   "source": [
    "import matplotlib.pyplot as plt\n",
    "\n",
    "plt.plot(range(1, len(loss_history) + 1), loss_history)\n",
    "plt.xlabel('Epochs')\n",
    "plt.ylabel('Validation MAE')\n",
    "plt.show()"
   ]
  },
  {
   "cell_type": "code",
   "execution_count": 96,
   "metadata": {
    "scrolled": true
   },
   "outputs": [
    {
     "data": {
      "text/plain": [
       "2782.81689453125"
      ]
     },
     "execution_count": 96,
     "metadata": {},
     "output_type": "execute_result"
    }
   ],
   "source": [
    "min(loss_history)"
   ]
  },
  {
   "cell_type": "markdown",
   "metadata": {},
   "source": [
    "# 예측물 결과치"
   ]
  },
  {
   "cell_type": "code",
   "execution_count": 97,
   "metadata": {},
   "outputs": [],
   "source": [
    "predict = model.predict(X_test)"
   ]
  },
  {
   "cell_type": "code",
   "execution_count": 98,
   "metadata": {},
   "outputs": [
    {
     "data": {
      "text/plain": [
       "array([[  6.8587074,   6.219809 ,   2.0799735,  52.51166  ],\n",
       "       [  3.9566746,   3.3164947,   1.1870883,  15.72159  ],\n",
       "       [  8.774063 ,   8.068453 ,   2.5197089,  74.71294  ],\n",
       "       ...,\n",
       "       [ 25.776535 ,  23.439264 ,   5.4577527, 239.57793  ],\n",
       "       [ 53.278862 ,  46.675797 ,  10.754485 , 523.1001   ],\n",
       "       [ 25.564425 ,  23.294836 ,   5.2948494, 238.93312  ]],\n",
       "      dtype=float32)"
      ]
     },
     "execution_count": 98,
     "metadata": {},
     "output_type": "execute_result"
    }
   ],
   "source": [
    "predict"
   ]
  },
  {
   "cell_type": "code",
   "execution_count": 99,
   "metadata": {},
   "outputs": [
    {
     "data": {
      "text/plain": [
       "(2691, 4)"
      ]
     },
     "execution_count": 99,
     "metadata": {},
     "output_type": "execute_result"
    }
   ],
   "source": [
    "predict.shape"
   ]
  }
 ],
 "metadata": {
  "kernelspec": {
   "display_name": "Python 3",
   "language": "python",
   "name": "python3"
  },
  "language_info": {
   "codemirror_mode": {
    "name": "ipython",
    "version": 3
   },
   "file_extension": ".py",
   "mimetype": "text/x-python",
   "name": "python",
   "nbconvert_exporter": "python",
   "pygments_lexer": "ipython3",
   "version": "3.7.9"
  }
 },
 "nbformat": 4,
 "nbformat_minor": 4
}
